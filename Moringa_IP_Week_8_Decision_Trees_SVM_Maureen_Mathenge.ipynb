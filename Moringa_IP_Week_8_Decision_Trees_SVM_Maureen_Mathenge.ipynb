{
  "nbformat": 4,
  "nbformat_minor": 0,
  "metadata": {
    "colab": {
      "name": "Moringa_IP_Week_8_Decision Trees/SVM_Maureen_Mathenge",
      "provenance": [],
      "collapsed_sections": [],
      "toc_visible": true
    },
    "kernelspec": {
      "name": "python3",
      "display_name": "Python 3"
    }
  },
  "cells": [
    {
      "cell_type": "markdown",
      "metadata": {
        "id": "0QLyMd9GwvHQ",
        "colab_type": "text"
      },
      "source": [
        "#Define the question\n",
        "Depending on the patients symptoms,do they have hypothyroidism "
      ]
    },
    {
      "cell_type": "markdown",
      "metadata": {
        "id": "SIFxd64JxAOa",
        "colab_type": "text"
      },
      "source": [
        "#Metric of Success\n",
        "Based on all the neccesary variables,create an accurate model that shall predict whether a patient suffers from Hypothyroid or not"
      ]
    },
    {
      "cell_type": "markdown",
      "metadata": {
        "id": "nVA4r2xtxXk9",
        "colab_type": "text"
      },
      "source": [
        "#Context\n",
        "Hypothyroid occurs when the thyroid gland does not produce enough thyroid hormones to meet the demands of the body.Thyroid hormones regulate metabolism, or the way the body uses energy. If thyroxine levels are low, many of the body's functions slow down.\n",
        "\n",
        "Nairobi hospital is conducting a clinical camp to test if the patients suffers from the disease.\n",
        "We shall use their data to create the model "
      ]
    },
    {
      "cell_type": "markdown",
      "metadata": {
        "id": "rCDKHJ2hyYa8",
        "colab_type": "text"
      },
      "source": [
        "#Experimental design\n",
        "I shall undertake business Understanding before getting into the dataset where i shall do data understanding followed by data preparation.\n",
        "After that is done i will do the modelling  and evaluation"
      ]
    },
    {
      "cell_type": "markdown",
      "metadata": {
        "id": "eCCuksipXRCD",
        "colab_type": "text"
      },
      "source": [
        "#Import the Libraries"
      ]
    },
    {
      "cell_type": "code",
      "metadata": {
        "id": "c9ZUUluNuQKI",
        "colab_type": "code",
        "colab": {}
      },
      "source": [
        "#import libraries\n",
        "import pandas as pd\n",
        "import numpy as np\n",
        "\n",
        "from matplotlib import pyplot as plt\n",
        "import seaborn as sns\n",
        "from sklearn.model_selection import train_test_split\n",
        "from sklearn.linear_model import LogisticRegression\n",
        "from sklearn.ensemble import RandomForestRegressor\n",
        "from sklearn import metrics\n",
        "from sklearn.ensemble import AdaBoostRegressor\n",
        "from sklearn.svm import SVC,LinearSVC\n",
        "from sklearn.model_selection import train_test_split\n",
        "from sklearn.svm import SVC\n",
        "from sklearn.metrics import  accuracy_score\n",
        "from sklearn.metrics import confusion_matrix"
      ],
      "execution_count": 0,
      "outputs": []
    },
    {
      "cell_type": "code",
      "metadata": {
        "id": "nq0_L_RDviqy",
        "colab_type": "code",
        "outputId": "d0427c86-1b95-4edf-9cfc-bb8cf2300501",
        "colab": {
          "base_uri": "https://localhost:8080/",
          "height": 224
        }
      },
      "source": [
        "#import the dataset\n",
        "df = pd.read_csv(\"hypothyroid.csv\")\n",
        "df.head()"
      ],
      "execution_count": 0,
      "outputs": [
        {
          "output_type": "execute_result",
          "data": {
            "text/html": [
              "<div>\n",
              "<style scoped>\n",
              "    .dataframe tbody tr th:only-of-type {\n",
              "        vertical-align: middle;\n",
              "    }\n",
              "\n",
              "    .dataframe tbody tr th {\n",
              "        vertical-align: top;\n",
              "    }\n",
              "\n",
              "    .dataframe thead th {\n",
              "        text-align: right;\n",
              "    }\n",
              "</style>\n",
              "<table border=\"1\" class=\"dataframe\">\n",
              "  <thead>\n",
              "    <tr style=\"text-align: right;\">\n",
              "      <th></th>\n",
              "      <th>status</th>\n",
              "      <th>age</th>\n",
              "      <th>sex</th>\n",
              "      <th>on_thyroxine</th>\n",
              "      <th>query_on_thyroxine</th>\n",
              "      <th>on_antithyroid_medication</th>\n",
              "      <th>thyroid_surgery</th>\n",
              "      <th>query_hypothyroid</th>\n",
              "      <th>query_hyperthyroid</th>\n",
              "      <th>pregnant</th>\n",
              "      <th>sick</th>\n",
              "      <th>tumor</th>\n",
              "      <th>lithium</th>\n",
              "      <th>goitre</th>\n",
              "      <th>TSH_measured</th>\n",
              "      <th>TSH</th>\n",
              "      <th>T3_measured</th>\n",
              "      <th>T3</th>\n",
              "      <th>TT4_measured</th>\n",
              "      <th>TT4</th>\n",
              "      <th>T4U_measured</th>\n",
              "      <th>T4U</th>\n",
              "      <th>FTI_measured</th>\n",
              "      <th>FTI</th>\n",
              "      <th>TBG_measured</th>\n",
              "      <th>TBG</th>\n",
              "    </tr>\n",
              "  </thead>\n",
              "  <tbody>\n",
              "    <tr>\n",
              "      <th>0</th>\n",
              "      <td>hypothyroid</td>\n",
              "      <td>72</td>\n",
              "      <td>M</td>\n",
              "      <td>f</td>\n",
              "      <td>f</td>\n",
              "      <td>f</td>\n",
              "      <td>f</td>\n",
              "      <td>f</td>\n",
              "      <td>f</td>\n",
              "      <td>f</td>\n",
              "      <td>f</td>\n",
              "      <td>f</td>\n",
              "      <td>f</td>\n",
              "      <td>f</td>\n",
              "      <td>y</td>\n",
              "      <td>30</td>\n",
              "      <td>y</td>\n",
              "      <td>0.60</td>\n",
              "      <td>y</td>\n",
              "      <td>15</td>\n",
              "      <td>y</td>\n",
              "      <td>1.48</td>\n",
              "      <td>y</td>\n",
              "      <td>10</td>\n",
              "      <td>n</td>\n",
              "      <td>?</td>\n",
              "    </tr>\n",
              "    <tr>\n",
              "      <th>1</th>\n",
              "      <td>hypothyroid</td>\n",
              "      <td>15</td>\n",
              "      <td>F</td>\n",
              "      <td>t</td>\n",
              "      <td>f</td>\n",
              "      <td>f</td>\n",
              "      <td>f</td>\n",
              "      <td>f</td>\n",
              "      <td>f</td>\n",
              "      <td>f</td>\n",
              "      <td>f</td>\n",
              "      <td>f</td>\n",
              "      <td>f</td>\n",
              "      <td>f</td>\n",
              "      <td>y</td>\n",
              "      <td>145</td>\n",
              "      <td>y</td>\n",
              "      <td>1.70</td>\n",
              "      <td>y</td>\n",
              "      <td>19</td>\n",
              "      <td>y</td>\n",
              "      <td>1.13</td>\n",
              "      <td>y</td>\n",
              "      <td>17</td>\n",
              "      <td>n</td>\n",
              "      <td>?</td>\n",
              "    </tr>\n",
              "    <tr>\n",
              "      <th>2</th>\n",
              "      <td>hypothyroid</td>\n",
              "      <td>24</td>\n",
              "      <td>M</td>\n",
              "      <td>f</td>\n",
              "      <td>f</td>\n",
              "      <td>f</td>\n",
              "      <td>f</td>\n",
              "      <td>f</td>\n",
              "      <td>f</td>\n",
              "      <td>f</td>\n",
              "      <td>f</td>\n",
              "      <td>f</td>\n",
              "      <td>f</td>\n",
              "      <td>f</td>\n",
              "      <td>y</td>\n",
              "      <td>0</td>\n",
              "      <td>y</td>\n",
              "      <td>0.20</td>\n",
              "      <td>y</td>\n",
              "      <td>4</td>\n",
              "      <td>y</td>\n",
              "      <td>1</td>\n",
              "      <td>y</td>\n",
              "      <td>0</td>\n",
              "      <td>n</td>\n",
              "      <td>?</td>\n",
              "    </tr>\n",
              "    <tr>\n",
              "      <th>3</th>\n",
              "      <td>hypothyroid</td>\n",
              "      <td>24</td>\n",
              "      <td>F</td>\n",
              "      <td>f</td>\n",
              "      <td>f</td>\n",
              "      <td>f</td>\n",
              "      <td>f</td>\n",
              "      <td>f</td>\n",
              "      <td>f</td>\n",
              "      <td>f</td>\n",
              "      <td>f</td>\n",
              "      <td>f</td>\n",
              "      <td>f</td>\n",
              "      <td>f</td>\n",
              "      <td>y</td>\n",
              "      <td>430</td>\n",
              "      <td>y</td>\n",
              "      <td>0.40</td>\n",
              "      <td>y</td>\n",
              "      <td>6</td>\n",
              "      <td>y</td>\n",
              "      <td>1.04</td>\n",
              "      <td>y</td>\n",
              "      <td>6</td>\n",
              "      <td>n</td>\n",
              "      <td>?</td>\n",
              "    </tr>\n",
              "    <tr>\n",
              "      <th>4</th>\n",
              "      <td>hypothyroid</td>\n",
              "      <td>77</td>\n",
              "      <td>M</td>\n",
              "      <td>f</td>\n",
              "      <td>f</td>\n",
              "      <td>f</td>\n",
              "      <td>f</td>\n",
              "      <td>f</td>\n",
              "      <td>f</td>\n",
              "      <td>f</td>\n",
              "      <td>f</td>\n",
              "      <td>f</td>\n",
              "      <td>f</td>\n",
              "      <td>f</td>\n",
              "      <td>y</td>\n",
              "      <td>7.30</td>\n",
              "      <td>y</td>\n",
              "      <td>1.20</td>\n",
              "      <td>y</td>\n",
              "      <td>57</td>\n",
              "      <td>y</td>\n",
              "      <td>1.28</td>\n",
              "      <td>y</td>\n",
              "      <td>44</td>\n",
              "      <td>n</td>\n",
              "      <td>?</td>\n",
              "    </tr>\n",
              "  </tbody>\n",
              "</table>\n",
              "</div>"
            ],
            "text/plain": [
              "        status age sex on_thyroxine  ... FTI_measured FTI TBG_measured TBG\n",
              "0  hypothyroid  72   M            f  ...            y  10            n   ?\n",
              "1  hypothyroid  15   F            t  ...            y  17            n   ?\n",
              "2  hypothyroid  24   M            f  ...            y   0            n   ?\n",
              "3  hypothyroid  24   F            f  ...            y   6            n   ?\n",
              "4  hypothyroid  77   M            f  ...            y  44            n   ?\n",
              "\n",
              "[5 rows x 26 columns]"
            ]
          },
          "metadata": {
            "tags": []
          },
          "execution_count": 8
        }
      ]
    },
    {
      "cell_type": "code",
      "metadata": {
        "id": "j6RWQwwF5BF4",
        "colab_type": "code",
        "outputId": "94e79fc1-4634-4035-8a2f-2647d85fc5ca",
        "colab": {
          "base_uri": "https://localhost:8080/",
          "height": 476
        }
      },
      "source": [
        "df.dtypes"
      ],
      "execution_count": 0,
      "outputs": [
        {
          "output_type": "execute_result",
          "data": {
            "text/plain": [
              "status                       object\n",
              "age                          object\n",
              "sex                          object\n",
              "on_thyroxine                 object\n",
              "query_on_thyroxine           object\n",
              "on_antithyroid_medication    object\n",
              "thyroid_surgery              object\n",
              "query_hypothyroid            object\n",
              "query_hyperthyroid           object\n",
              "pregnant                     object\n",
              "sick                         object\n",
              "tumor                        object\n",
              "lithium                      object\n",
              "goitre                       object\n",
              "TSH_measured                 object\n",
              "TSH                          object\n",
              "T3_measured                  object\n",
              "T3                           object\n",
              "TT4_measured                 object\n",
              "TT4                          object\n",
              "T4U_measured                 object\n",
              "T4U                          object\n",
              "FTI_measured                 object\n",
              "FTI                          object\n",
              "TBG_measured                 object\n",
              "TBG                          object\n",
              "dtype: object"
            ]
          },
          "metadata": {
            "tags": []
          },
          "execution_count": 9
        }
      ]
    },
    {
      "cell_type": "code",
      "metadata": {
        "id": "3ndjlBv56lDG",
        "colab_type": "code",
        "outputId": "38bcff51-aec3-49be-e095-0cb10e400587",
        "colab": {
          "base_uri": "https://localhost:8080/",
          "height": 34
        }
      },
      "source": [
        "df.shape"
      ],
      "execution_count": 0,
      "outputs": [
        {
          "output_type": "execute_result",
          "data": {
            "text/plain": [
              "(3163, 26)"
            ]
          },
          "metadata": {
            "tags": []
          },
          "execution_count": 10
        }
      ]
    },
    {
      "cell_type": "code",
      "metadata": {
        "id": "0b_XuZNTvztU",
        "colab_type": "code",
        "outputId": "21564f6b-be70-4f30-a309-66d145bfe08b",
        "colab": {
          "base_uri": "https://localhost:8080/",
          "height": 34
        }
      },
      "source": [
        "#\n",
        "df.status.unique()"
      ],
      "execution_count": 0,
      "outputs": [
        {
          "output_type": "execute_result",
          "data": {
            "text/plain": [
              "array(['hypothyroid', 'negative'], dtype=object)"
            ]
          },
          "metadata": {
            "tags": []
          },
          "execution_count": 11
        }
      ]
    },
    {
      "cell_type": "code",
      "metadata": {
        "id": "RU7El3rZ8MkP",
        "colab_type": "code",
        "outputId": "8a96948a-5639-4dd5-e92b-59f48755a459",
        "colab": {
          "base_uri": "https://localhost:8080/",
          "height": 34
        }
      },
      "source": [
        "df.TSH_measured.unique()"
      ],
      "execution_count": 0,
      "outputs": [
        {
          "output_type": "execute_result",
          "data": {
            "text/plain": [
              "array(['y', 'n'], dtype=object)"
            ]
          },
          "metadata": {
            "tags": []
          },
          "execution_count": 12
        }
      ]
    },
    {
      "cell_type": "code",
      "metadata": {
        "id": "ranLjTybJY78",
        "colab_type": "code",
        "outputId": "f7bb0650-e4cf-4d31-9050-bcff7e93298b",
        "colab": {
          "base_uri": "https://localhost:8080/",
          "height": 476
        }
      },
      "source": [
        "#Convert numerical columns to integers\n",
        "#This is because boxplots do not work with strings\n",
        "columns = ['age','TSH','T3','TT4','T4U','FTI']\n",
        "df[columns] = df[columns].apply(pd.to_numeric, errors='coerce',axis=1)\n",
        "df.dtypes"
      ],
      "execution_count": 0,
      "outputs": [
        {
          "output_type": "execute_result",
          "data": {
            "text/plain": [
              "status                        object\n",
              "age                          float64\n",
              "sex                           object\n",
              "on_thyroxine                  object\n",
              "query_on_thyroxine            object\n",
              "on_antithyroid_medication     object\n",
              "thyroid_surgery               object\n",
              "query_hypothyroid             object\n",
              "query_hyperthyroid            object\n",
              "pregnant                      object\n",
              "sick                          object\n",
              "tumor                         object\n",
              "lithium                       object\n",
              "goitre                        object\n",
              "TSH_measured                  object\n",
              "TSH                          float64\n",
              "T3_measured                   object\n",
              "T3                           float64\n",
              "TT4_measured                  object\n",
              "TT4                          float64\n",
              "T4U_measured                  object\n",
              "T4U                          float64\n",
              "FTI_measured                  object\n",
              "FTI                          float64\n",
              "TBG_measured                  object\n",
              "TBG                           object\n",
              "dtype: object"
            ]
          },
          "metadata": {
            "tags": []
          },
          "execution_count": 13
        }
      ]
    },
    {
      "cell_type": "markdown",
      "metadata": {
        "id": "1qpOI84n4GsF",
        "colab_type": "text"
      },
      "source": [
        "#Data Cleaning "
      ]
    },
    {
      "cell_type": "markdown",
      "metadata": {
        "id": "Np-KqoD__0Ff",
        "colab_type": "text"
      },
      "source": [
        "##1.Validity"
      ]
    },
    {
      "cell_type": "code",
      "metadata": {
        "id": "31WLFdE2zKmF",
        "colab_type": "code",
        "colab": {}
      },
      "source": [
        "  #create a function that can pass any dataframe\n",
        "def plot_boxplots(target_dataframe,col_names):\n",
        "    fig, ax = plt.subplots(len(col_names), figsize=(10,80))\n",
        "    for i, column_name in enumerate(col_names):\n",
        "        sns.boxplot(y=target_dataframe[column_name], ax=ax[i])\n",
        "        ax[i].set_title('Box plot - {}'.format(column_name), fontsize=10)\n",
        "        ax[i].set_xlabel(column_name, fontsize=8)\n",
        "    plt.show()"
      ],
      "execution_count": 0,
      "outputs": []
    },
    {
      "cell_type": "code",
      "metadata": {
        "id": "2umcFKI04Fmq",
        "colab_type": "code",
        "outputId": "c8b4b4fa-bb48-4e28-f25c-53f4910669d9",
        "colab": {
          "base_uri": "https://localhost:8080/",
          "height": 1000
        }
      },
      "source": [
        "#Execute the function\n",
        "col_names = ['age','TSH','T3','TT4','T4U','FTI']\n",
        "target_dataframe = df\n",
        "plot_boxplots(target_dataframe,col_names)"
      ],
      "execution_count": 0,
      "outputs": [
        {
          "output_type": "display_data",
          "data": {
            "image/png": "[encoded data removed]",
            "text/plain": [
              "<Figure size 720x5760 with 6 Axes>"
            ]
          },
          "metadata": {
            "tags": []
          }
        }
      ]
    },
    {
      "cell_type": "markdown",
      "metadata": {
        "id": "AUmHMNMA6ysf",
        "colab_type": "text"
      },
      "source": [
        "##2.Completeness"
      ]
    },
    {
      "cell_type": "code",
      "metadata": {
        "id": "wsPV723c3R7R",
        "colab_type": "code",
        "colab": {}
      },
      "source": [
        "#Replace the ? to get the missing values \n",
        "df = df.replace(\"?\", np.nan)"
      ],
      "execution_count": 0,
      "outputs": []
    },
    {
      "cell_type": "code",
      "metadata": {
        "id": "v5vro5HC63F8",
        "colab_type": "code",
        "outputId": "55fd2c0b-609f-4065-a29e-74e5140b539e",
        "colab": {
          "base_uri": "https://localhost:8080/",
          "height": 476
        }
      },
      "source": [
        "#check for the missing values \n",
        "df.isnull().sum()\n",
        "#No values are missing at this point \n",
        "#However,we have ? in the dataset"
      ],
      "execution_count": 0,
      "outputs": [
        {
          "output_type": "execute_result",
          "data": {
            "text/plain": [
              "status                          0\n",
              "age                           446\n",
              "sex                            73\n",
              "on_thyroxine                    0\n",
              "query_on_thyroxine              0\n",
              "on_antithyroid_medication       0\n",
              "thyroid_surgery                 0\n",
              "query_hypothyroid               0\n",
              "query_hyperthyroid              0\n",
              "pregnant                        0\n",
              "sick                            0\n",
              "tumor                           0\n",
              "lithium                         0\n",
              "goitre                          0\n",
              "TSH_measured                    0\n",
              "TSH                           468\n",
              "T3_measured                     0\n",
              "T3                            695\n",
              "TT4_measured                    0\n",
              "TT4                           249\n",
              "T4U_measured                    0\n",
              "T4U                           248\n",
              "FTI_measured                    0\n",
              "FTI                           247\n",
              "TBG_measured                    0\n",
              "TBG                          2903\n",
              "dtype: int64"
            ]
          },
          "metadata": {
            "tags": []
          },
          "execution_count": 17
        }
      ]
    },
    {
      "cell_type": "code",
      "metadata": {
        "id": "i8rKMCKY9DwD",
        "colab_type": "code",
        "outputId": "8e53c49a-b325-4f0e-9ffc-9d4fbfcfe098",
        "colab": {
          "base_uri": "https://localhost:8080/",
          "height": 119
        }
      },
      "source": [
        "#Dropping the column TBG\n",
        "df = df.drop([\"TBG\",\"TBG_measured\"],axis=1)\n",
        "#Check if it has really been dropped\n",
        "df.columns "
      ],
      "execution_count": 0,
      "outputs": [
        {
          "output_type": "execute_result",
          "data": {
            "text/plain": [
              "Index(['status', 'age', 'sex', 'on_thyroxine', 'query_on_thyroxine',\n",
              "       'on_antithyroid_medication', 'thyroid_surgery', 'query_hypothyroid',\n",
              "       'query_hyperthyroid', 'pregnant', 'sick', 'tumor', 'lithium', 'goitre',\n",
              "       'TSH_measured', 'TSH', 'T3_measured', 'T3', 'TT4_measured', 'TT4',\n",
              "       'T4U_measured', 'T4U', 'FTI_measured', 'FTI'],\n",
              "      dtype='object')"
            ]
          },
          "metadata": {
            "tags": []
          },
          "execution_count": 18
        }
      ]
    },
    {
      "cell_type": "markdown",
      "metadata": {
        "id": "vjnQ4aps7LIX",
        "colab_type": "text"
      },
      "source": [
        "##3.Consistency"
      ]
    },
    {
      "cell_type": "code",
      "metadata": {
        "id": "4_gP8QfT7SA7",
        "colab_type": "code",
        "outputId": "6567fdab-281f-46d0-a6a7-12ae48c4bf79",
        "colab": {
          "base_uri": "https://localhost:8080/",
          "height": 34
        }
      },
      "source": [
        "df.duplicated().sum()"
      ],
      "execution_count": 0,
      "outputs": [
        {
          "output_type": "execute_result",
          "data": {
            "text/plain": [
              "152"
            ]
          },
          "metadata": {
            "tags": []
          },
          "execution_count": 19
        }
      ]
    },
    {
      "cell_type": "code",
      "metadata": {
        "id": "21-ouQBN7l_s",
        "colab_type": "code",
        "outputId": "560246e6-0d30-4c2c-f0bc-be4e3110c239",
        "colab": {
          "base_uri": "https://localhost:8080/",
          "height": 34
        }
      },
      "source": [
        "df = df.drop_duplicates()\n",
        "df.duplicated().sum()"
      ],
      "execution_count": 0,
      "outputs": [
        {
          "output_type": "execute_result",
          "data": {
            "text/plain": [
              "0"
            ]
          },
          "metadata": {
            "tags": []
          },
          "execution_count": 20
        }
      ]
    },
    {
      "cell_type": "markdown",
      "metadata": {
        "id": "P7F0qajPgq6m",
        "colab_type": "text"
      },
      "source": [
        "#Label Encoding"
      ]
    },
    {
      "cell_type": "code",
      "metadata": {
        "id": "Re6QQkCpfPbE",
        "colab_type": "code",
        "outputId": "dc1338e3-c322-4ae9-acf8-072f99cb8f87",
        "colab": {
          "base_uri": "https://localhost:8080/",
          "height": 348
        }
      },
      "source": [
        "#For the columns with true and false,we shall convert that to numerical\n",
        "df['on_thyroxine'].replace(['t', 'f'],[1,0],inplace=True)\n",
        "df['query_on_thyroxine'].replace(['t', 'f'],[1,0],inplace=True)\n",
        "df['on_antithyroid_medication'].replace(['t', 'f'],[1,0],inplace=True)\n",
        "df['thyroid_surgery'].replace(['t', 'f'],[1,0],inplace=True)\n",
        "df['query_hypothyroid'].replace(['t', 'f'],[1,0],inplace=True)\n",
        "df['query_hyperthyroid'].replace(['t', 'f'],[1,0],inplace=True)\n",
        "df['pregnant'].replace(['t', 'f'],[1,0],inplace=True)\n",
        "df['sick'].replace(['t', 'f'],[1,0],inplace=True)\n",
        "df['tumor'].replace(['t', 'f'],[1,0],inplace=True)\n",
        "df['lithium'].replace(['t', 'f'],[1,0],inplace=True)\n",
        "df['goitre'].replace(['t', 'f'],[1,0],inplace=True)\n",
        "df['status'].replace(['hypothyroid', 'negative'],[1,0],inplace=True)\n",
        "df['sex'].replace(['M', 'F'],[1,0],inplace=True)\n",
        "df.sample(9)\n",
        "#This will be important when i  come to do the label encoding "
      ],
      "execution_count": 0,
      "outputs": [
        {
          "output_type": "execute_result",
          "data": {
            "text/html": [
              "<div>\n",
              "<style scoped>\n",
              "    .dataframe tbody tr th:only-of-type {\n",
              "        vertical-align: middle;\n",
              "    }\n",
              "\n",
              "    .dataframe tbody tr th {\n",
              "        vertical-align: top;\n",
              "    }\n",
              "\n",
              "    .dataframe thead th {\n",
              "        text-align: right;\n",
              "    }\n",
              "</style>\n",
              "<table border=\"1\" class=\"dataframe\">\n",
              "  <thead>\n",
              "    <tr style=\"text-align: right;\">\n",
              "      <th></th>\n",
              "      <th>status</th>\n",
              "      <th>age</th>\n",
              "      <th>sex</th>\n",
              "      <th>on_thyroxine</th>\n",
              "      <th>query_on_thyroxine</th>\n",
              "      <th>on_antithyroid_medication</th>\n",
              "      <th>thyroid_surgery</th>\n",
              "      <th>query_hypothyroid</th>\n",
              "      <th>query_hyperthyroid</th>\n",
              "      <th>pregnant</th>\n",
              "      <th>sick</th>\n",
              "      <th>tumor</th>\n",
              "      <th>lithium</th>\n",
              "      <th>goitre</th>\n",
              "      <th>TSH_measured</th>\n",
              "      <th>TSH</th>\n",
              "      <th>T3_measured</th>\n",
              "      <th>T3</th>\n",
              "      <th>TT4_measured</th>\n",
              "      <th>TT4</th>\n",
              "      <th>T4U_measured</th>\n",
              "      <th>T4U</th>\n",
              "      <th>FTI_measured</th>\n",
              "      <th>FTI</th>\n",
              "    </tr>\n",
              "  </thead>\n",
              "  <tbody>\n",
              "    <tr>\n",
              "      <th>2247</th>\n",
              "      <td>0</td>\n",
              "      <td>39.0</td>\n",
              "      <td>0.0</td>\n",
              "      <td>1</td>\n",
              "      <td>0</td>\n",
              "      <td>0</td>\n",
              "      <td>0</td>\n",
              "      <td>0</td>\n",
              "      <td>0</td>\n",
              "      <td>0</td>\n",
              "      <td>0</td>\n",
              "      <td>0</td>\n",
              "      <td>0</td>\n",
              "      <td>0</td>\n",
              "      <td>y</td>\n",
              "      <td>5.0</td>\n",
              "      <td>y</td>\n",
              "      <td>3.1</td>\n",
              "      <td>y</td>\n",
              "      <td>141.0</td>\n",
              "      <td>y</td>\n",
              "      <td>1.34</td>\n",
              "      <td>y</td>\n",
              "      <td>105.0</td>\n",
              "    </tr>\n",
              "    <tr>\n",
              "      <th>115</th>\n",
              "      <td>1</td>\n",
              "      <td>NaN</td>\n",
              "      <td>1.0</td>\n",
              "      <td>0</td>\n",
              "      <td>0</td>\n",
              "      <td>0</td>\n",
              "      <td>0</td>\n",
              "      <td>0</td>\n",
              "      <td>0</td>\n",
              "      <td>0</td>\n",
              "      <td>0</td>\n",
              "      <td>0</td>\n",
              "      <td>0</td>\n",
              "      <td>0</td>\n",
              "      <td>y</td>\n",
              "      <td>176.0</td>\n",
              "      <td>y</td>\n",
              "      <td>0.5</td>\n",
              "      <td>y</td>\n",
              "      <td>6.0</td>\n",
              "      <td>y</td>\n",
              "      <td>1.45</td>\n",
              "      <td>y</td>\n",
              "      <td>4.0</td>\n",
              "    </tr>\n",
              "    <tr>\n",
              "      <th>3107</th>\n",
              "      <td>0</td>\n",
              "      <td>45.0</td>\n",
              "      <td>0.0</td>\n",
              "      <td>0</td>\n",
              "      <td>0</td>\n",
              "      <td>0</td>\n",
              "      <td>0</td>\n",
              "      <td>0</td>\n",
              "      <td>0</td>\n",
              "      <td>0</td>\n",
              "      <td>0</td>\n",
              "      <td>0</td>\n",
              "      <td>0</td>\n",
              "      <td>1</td>\n",
              "      <td>n</td>\n",
              "      <td>NaN</td>\n",
              "      <td>n</td>\n",
              "      <td>NaN</td>\n",
              "      <td>n</td>\n",
              "      <td>NaN</td>\n",
              "      <td>n</td>\n",
              "      <td>NaN</td>\n",
              "      <td>n</td>\n",
              "      <td>NaN</td>\n",
              "    </tr>\n",
              "    <tr>\n",
              "      <th>859</th>\n",
              "      <td>0</td>\n",
              "      <td>78.0</td>\n",
              "      <td>0.0</td>\n",
              "      <td>0</td>\n",
              "      <td>0</td>\n",
              "      <td>0</td>\n",
              "      <td>0</td>\n",
              "      <td>0</td>\n",
              "      <td>0</td>\n",
              "      <td>0</td>\n",
              "      <td>0</td>\n",
              "      <td>0</td>\n",
              "      <td>0</td>\n",
              "      <td>0</td>\n",
              "      <td>y</td>\n",
              "      <td>2.9</td>\n",
              "      <td>y</td>\n",
              "      <td>1.7</td>\n",
              "      <td>y</td>\n",
              "      <td>103.0</td>\n",
              "      <td>y</td>\n",
              "      <td>0.88</td>\n",
              "      <td>y</td>\n",
              "      <td>117.0</td>\n",
              "    </tr>\n",
              "    <tr>\n",
              "      <th>2637</th>\n",
              "      <td>0</td>\n",
              "      <td>55.0</td>\n",
              "      <td>0.0</td>\n",
              "      <td>0</td>\n",
              "      <td>0</td>\n",
              "      <td>0</td>\n",
              "      <td>0</td>\n",
              "      <td>0</td>\n",
              "      <td>0</td>\n",
              "      <td>0</td>\n",
              "      <td>0</td>\n",
              "      <td>0</td>\n",
              "      <td>0</td>\n",
              "      <td>0</td>\n",
              "      <td>y</td>\n",
              "      <td>0.0</td>\n",
              "      <td>y</td>\n",
              "      <td>1.5</td>\n",
              "      <td>y</td>\n",
              "      <td>110.0</td>\n",
              "      <td>y</td>\n",
              "      <td>0.77</td>\n",
              "      <td>y</td>\n",
              "      <td>144.0</td>\n",
              "    </tr>\n",
              "    <tr>\n",
              "      <th>623</th>\n",
              "      <td>0</td>\n",
              "      <td>73.0</td>\n",
              "      <td>0.0</td>\n",
              "      <td>0</td>\n",
              "      <td>0</td>\n",
              "      <td>0</td>\n",
              "      <td>0</td>\n",
              "      <td>0</td>\n",
              "      <td>0</td>\n",
              "      <td>0</td>\n",
              "      <td>0</td>\n",
              "      <td>0</td>\n",
              "      <td>0</td>\n",
              "      <td>0</td>\n",
              "      <td>y</td>\n",
              "      <td>2.0</td>\n",
              "      <td>y</td>\n",
              "      <td>1.6</td>\n",
              "      <td>y</td>\n",
              "      <td>162.0</td>\n",
              "      <td>y</td>\n",
              "      <td>0.94</td>\n",
              "      <td>y</td>\n",
              "      <td>173.0</td>\n",
              "    </tr>\n",
              "    <tr>\n",
              "      <th>2478</th>\n",
              "      <td>0</td>\n",
              "      <td>36.0</td>\n",
              "      <td>0.0</td>\n",
              "      <td>0</td>\n",
              "      <td>0</td>\n",
              "      <td>0</td>\n",
              "      <td>0</td>\n",
              "      <td>0</td>\n",
              "      <td>0</td>\n",
              "      <td>0</td>\n",
              "      <td>0</td>\n",
              "      <td>0</td>\n",
              "      <td>0</td>\n",
              "      <td>0</td>\n",
              "      <td>y</td>\n",
              "      <td>0.9</td>\n",
              "      <td>y</td>\n",
              "      <td>2.0</td>\n",
              "      <td>y</td>\n",
              "      <td>87.0</td>\n",
              "      <td>y</td>\n",
              "      <td>0.88</td>\n",
              "      <td>y</td>\n",
              "      <td>99.0</td>\n",
              "    </tr>\n",
              "    <tr>\n",
              "      <th>2621</th>\n",
              "      <td>0</td>\n",
              "      <td>54.0</td>\n",
              "      <td>0.0</td>\n",
              "      <td>0</td>\n",
              "      <td>0</td>\n",
              "      <td>0</td>\n",
              "      <td>0</td>\n",
              "      <td>0</td>\n",
              "      <td>0</td>\n",
              "      <td>0</td>\n",
              "      <td>0</td>\n",
              "      <td>0</td>\n",
              "      <td>0</td>\n",
              "      <td>0</td>\n",
              "      <td>y</td>\n",
              "      <td>5.1</td>\n",
              "      <td>y</td>\n",
              "      <td>1.5</td>\n",
              "      <td>y</td>\n",
              "      <td>66.0</td>\n",
              "      <td>y</td>\n",
              "      <td>0.72</td>\n",
              "      <td>y</td>\n",
              "      <td>92.0</td>\n",
              "    </tr>\n",
              "    <tr>\n",
              "      <th>2786</th>\n",
              "      <td>0</td>\n",
              "      <td>NaN</td>\n",
              "      <td>0.0</td>\n",
              "      <td>0</td>\n",
              "      <td>0</td>\n",
              "      <td>0</td>\n",
              "      <td>1</td>\n",
              "      <td>0</td>\n",
              "      <td>0</td>\n",
              "      <td>0</td>\n",
              "      <td>0</td>\n",
              "      <td>0</td>\n",
              "      <td>0</td>\n",
              "      <td>0</td>\n",
              "      <td>y</td>\n",
              "      <td>0.0</td>\n",
              "      <td>y</td>\n",
              "      <td>1.9</td>\n",
              "      <td>y</td>\n",
              "      <td>151.0</td>\n",
              "      <td>y</td>\n",
              "      <td>1.03</td>\n",
              "      <td>y</td>\n",
              "      <td>147.0</td>\n",
              "    </tr>\n",
              "  </tbody>\n",
              "</table>\n",
              "</div>"
            ],
            "text/plain": [
              "      status   age  sex  on_thyroxine  ...  T4U_measured   T4U  FTI_measured    FTI\n",
              "2247       0  39.0  0.0             1  ...             y  1.34             y  105.0\n",
              "115        1   NaN  1.0             0  ...             y  1.45             y    4.0\n",
              "3107       0  45.0  0.0             0  ...             n   NaN             n    NaN\n",
              "859        0  78.0  0.0             0  ...             y  0.88             y  117.0\n",
              "2637       0  55.0  0.0             0  ...             y  0.77             y  144.0\n",
              "623        0  73.0  0.0             0  ...             y  0.94             y  173.0\n",
              "2478       0  36.0  0.0             0  ...             y  0.88             y   99.0\n",
              "2621       0  54.0  0.0             0  ...             y  0.72             y   92.0\n",
              "2786       0   NaN  0.0             0  ...             y  1.03             y  147.0\n",
              "\n",
              "[9 rows x 24 columns]"
            ]
          },
          "metadata": {
            "tags": []
          },
          "execution_count": 21
        }
      ]
    },
    {
      "cell_type": "code",
      "metadata": {
        "id": "D2x-EEQPi0ep",
        "colab_type": "code",
        "outputId": "0d2f4c8c-3b72-49b9-a981-5e2d127277e8",
        "colab": {
          "base_uri": "https://localhost:8080/",
          "height": 442
        }
      },
      "source": [
        "df.dtypes"
      ],
      "execution_count": 0,
      "outputs": [
        {
          "output_type": "execute_result",
          "data": {
            "text/plain": [
              "status                         int64\n",
              "age                          float64\n",
              "sex                          float64\n",
              "on_thyroxine                   int64\n",
              "query_on_thyroxine             int64\n",
              "on_antithyroid_medication      int64\n",
              "thyroid_surgery                int64\n",
              "query_hypothyroid              int64\n",
              "query_hyperthyroid             int64\n",
              "pregnant                       int64\n",
              "sick                           int64\n",
              "tumor                          int64\n",
              "lithium                        int64\n",
              "goitre                         int64\n",
              "TSH_measured                  object\n",
              "TSH                          float64\n",
              "T3_measured                   object\n",
              "T3                           float64\n",
              "TT4_measured                  object\n",
              "TT4                          float64\n",
              "T4U_measured                  object\n",
              "T4U                          float64\n",
              "FTI_measured                  object\n",
              "FTI                          float64\n",
              "dtype: object"
            ]
          },
          "metadata": {
            "tags": []
          },
          "execution_count": 22
        }
      ]
    },
    {
      "cell_type": "markdown",
      "metadata": {
        "id": "2JYfNvmO6Pu4",
        "colab_type": "text"
      },
      "source": [
        "#Exploratory Data Analysis"
      ]
    },
    {
      "cell_type": "markdown",
      "metadata": {
        "id": "nH3TOqNg6V-E",
        "colab_type": "text"
      },
      "source": [
        "##Univariate Analysis"
      ]
    },
    {
      "cell_type": "markdown",
      "metadata": {
        "id": "4-dy-9RqTQZ0",
        "colab_type": "text"
      },
      "source": [
        "###Measures of Central Tendency"
      ]
    },
    {
      "cell_type": "code",
      "metadata": {
        "id": "eshAfjmlTWwv",
        "colab_type": "code",
        "outputId": "26aa766f-ef4c-4aa0-cb86-f05b5b9e4a05",
        "colab": {
          "base_uri": "https://localhost:8080/",
          "height": 317
        }
      },
      "source": [
        "#Insights on the dataset\n",
        "df.describe()\n",
        "#The age bracket is between 1 - 98"
      ],
      "execution_count": 0,
      "outputs": [
        {
          "output_type": "execute_result",
          "data": {
            "text/html": [
              "<div>\n",
              "<style scoped>\n",
              "    .dataframe tbody tr th:only-of-type {\n",
              "        vertical-align: middle;\n",
              "    }\n",
              "\n",
              "    .dataframe tbody tr th {\n",
              "        vertical-align: top;\n",
              "    }\n",
              "\n",
              "    .dataframe thead th {\n",
              "        text-align: right;\n",
              "    }\n",
              "</style>\n",
              "<table border=\"1\" class=\"dataframe\">\n",
              "  <thead>\n",
              "    <tr style=\"text-align: right;\">\n",
              "      <th></th>\n",
              "      <th>status</th>\n",
              "      <th>age</th>\n",
              "      <th>sex</th>\n",
              "      <th>on_thyroxine</th>\n",
              "      <th>query_on_thyroxine</th>\n",
              "      <th>on_antithyroid_medication</th>\n",
              "      <th>thyroid_surgery</th>\n",
              "      <th>query_hypothyroid</th>\n",
              "      <th>query_hyperthyroid</th>\n",
              "      <th>pregnant</th>\n",
              "      <th>sick</th>\n",
              "      <th>tumor</th>\n",
              "      <th>lithium</th>\n",
              "      <th>goitre</th>\n",
              "      <th>TSH</th>\n",
              "      <th>T3</th>\n",
              "      <th>TT4</th>\n",
              "      <th>T4U</th>\n",
              "      <th>FTI</th>\n",
              "    </tr>\n",
              "  </thead>\n",
              "  <tbody>\n",
              "    <tr>\n",
              "      <th>count</th>\n",
              "      <td>3011.000000</td>\n",
              "      <td>2584.000000</td>\n",
              "      <td>2938.000000</td>\n",
              "      <td>3011.000000</td>\n",
              "      <td>3011.000000</td>\n",
              "      <td>3011.000000</td>\n",
              "      <td>3011.000000</td>\n",
              "      <td>3011.000000</td>\n",
              "      <td>3011.000000</td>\n",
              "      <td>3011.000000</td>\n",
              "      <td>3011.000000</td>\n",
              "      <td>3011.000000</td>\n",
              "      <td>3011.000000</td>\n",
              "      <td>3011.000000</td>\n",
              "      <td>2631.000000</td>\n",
              "      <td>2406.000000</td>\n",
              "      <td>2846.000000</td>\n",
              "      <td>2847.000000</td>\n",
              "      <td>2848.000000</td>\n",
              "    </tr>\n",
              "    <tr>\n",
              "      <th>mean</th>\n",
              "      <td>0.046828</td>\n",
              "      <td>51.361068</td>\n",
              "      <td>0.302587</td>\n",
              "      <td>0.148124</td>\n",
              "      <td>0.018266</td>\n",
              "      <td>0.013949</td>\n",
              "      <td>0.034208</td>\n",
              "      <td>0.078047</td>\n",
              "      <td>0.075390</td>\n",
              "      <td>0.020259</td>\n",
              "      <td>0.032215</td>\n",
              "      <td>0.013285</td>\n",
              "      <td>0.000664</td>\n",
              "      <td>0.031883</td>\n",
              "      <td>5.809320</td>\n",
              "      <td>1.933666</td>\n",
              "      <td>108.706922</td>\n",
              "      <td>0.977559</td>\n",
              "      <td>115.489080</td>\n",
              "    </tr>\n",
              "    <tr>\n",
              "      <th>std</th>\n",
              "      <td>0.211306</td>\n",
              "      <td>19.288226</td>\n",
              "      <td>0.459456</td>\n",
              "      <td>0.355281</td>\n",
              "      <td>0.133935</td>\n",
              "      <td>0.117298</td>\n",
              "      <td>0.181793</td>\n",
              "      <td>0.268290</td>\n",
              "      <td>0.264064</td>\n",
              "      <td>0.140909</td>\n",
              "      <td>0.176601</td>\n",
              "      <td>0.114510</td>\n",
              "      <td>0.025768</td>\n",
              "      <td>0.175718</td>\n",
              "      <td>24.023192</td>\n",
              "      <td>0.979488</td>\n",
              "      <td>44.606704</td>\n",
              "      <td>0.225796</td>\n",
              "      <td>60.147649</td>\n",
              "    </tr>\n",
              "    <tr>\n",
              "      <th>min</th>\n",
              "      <td>0.000000</td>\n",
              "      <td>1.000000</td>\n",
              "      <td>0.000000</td>\n",
              "      <td>0.000000</td>\n",
              "      <td>0.000000</td>\n",
              "      <td>0.000000</td>\n",
              "      <td>0.000000</td>\n",
              "      <td>0.000000</td>\n",
              "      <td>0.000000</td>\n",
              "      <td>0.000000</td>\n",
              "      <td>0.000000</td>\n",
              "      <td>0.000000</td>\n",
              "      <td>0.000000</td>\n",
              "      <td>0.000000</td>\n",
              "      <td>0.000000</td>\n",
              "      <td>0.000000</td>\n",
              "      <td>2.000000</td>\n",
              "      <td>0.000000</td>\n",
              "      <td>0.000000</td>\n",
              "    </tr>\n",
              "    <tr>\n",
              "      <th>25%</th>\n",
              "      <td>0.000000</td>\n",
              "      <td>35.000000</td>\n",
              "      <td>0.000000</td>\n",
              "      <td>0.000000</td>\n",
              "      <td>0.000000</td>\n",
              "      <td>0.000000</td>\n",
              "      <td>0.000000</td>\n",
              "      <td>0.000000</td>\n",
              "      <td>0.000000</td>\n",
              "      <td>0.000000</td>\n",
              "      <td>0.000000</td>\n",
              "      <td>0.000000</td>\n",
              "      <td>0.000000</td>\n",
              "      <td>0.000000</td>\n",
              "      <td>0.000000</td>\n",
              "      <td>1.400000</td>\n",
              "      <td>83.000000</td>\n",
              "      <td>0.850000</td>\n",
              "      <td>91.000000</td>\n",
              "    </tr>\n",
              "    <tr>\n",
              "      <th>50%</th>\n",
              "      <td>0.000000</td>\n",
              "      <td>54.000000</td>\n",
              "      <td>0.000000</td>\n",
              "      <td>0.000000</td>\n",
              "      <td>0.000000</td>\n",
              "      <td>0.000000</td>\n",
              "      <td>0.000000</td>\n",
              "      <td>0.000000</td>\n",
              "      <td>0.000000</td>\n",
              "      <td>0.000000</td>\n",
              "      <td>0.000000</td>\n",
              "      <td>0.000000</td>\n",
              "      <td>0.000000</td>\n",
              "      <td>0.000000</td>\n",
              "      <td>0.700000</td>\n",
              "      <td>1.800000</td>\n",
              "      <td>104.000000</td>\n",
              "      <td>0.960000</td>\n",
              "      <td>107.000000</td>\n",
              "    </tr>\n",
              "    <tr>\n",
              "      <th>75%</th>\n",
              "      <td>0.000000</td>\n",
              "      <td>67.000000</td>\n",
              "      <td>1.000000</td>\n",
              "      <td>0.000000</td>\n",
              "      <td>0.000000</td>\n",
              "      <td>0.000000</td>\n",
              "      <td>0.000000</td>\n",
              "      <td>0.000000</td>\n",
              "      <td>0.000000</td>\n",
              "      <td>0.000000</td>\n",
              "      <td>0.000000</td>\n",
              "      <td>0.000000</td>\n",
              "      <td>0.000000</td>\n",
              "      <td>0.000000</td>\n",
              "      <td>2.200000</td>\n",
              "      <td>2.300000</td>\n",
              "      <td>127.000000</td>\n",
              "      <td>1.060000</td>\n",
              "      <td>129.000000</td>\n",
              "    </tr>\n",
              "    <tr>\n",
              "      <th>max</th>\n",
              "      <td>1.000000</td>\n",
              "      <td>98.000000</td>\n",
              "      <td>1.000000</td>\n",
              "      <td>1.000000</td>\n",
              "      <td>1.000000</td>\n",
              "      <td>1.000000</td>\n",
              "      <td>1.000000</td>\n",
              "      <td>1.000000</td>\n",
              "      <td>1.000000</td>\n",
              "      <td>1.000000</td>\n",
              "      <td>1.000000</td>\n",
              "      <td>1.000000</td>\n",
              "      <td>1.000000</td>\n",
              "      <td>1.000000</td>\n",
              "      <td>530.000000</td>\n",
              "      <td>10.200000</td>\n",
              "      <td>450.000000</td>\n",
              "      <td>2.210000</td>\n",
              "      <td>881.000000</td>\n",
              "    </tr>\n",
              "  </tbody>\n",
              "</table>\n",
              "</div>"
            ],
            "text/plain": [
              "            status          age  ...          T4U          FTI\n",
              "count  3011.000000  2584.000000  ...  2847.000000  2848.000000\n",
              "mean      0.046828    51.361068  ...     0.977559   115.489080\n",
              "std       0.211306    19.288226  ...     0.225796    60.147649\n",
              "min       0.000000     1.000000  ...     0.000000     0.000000\n",
              "25%       0.000000    35.000000  ...     0.850000    91.000000\n",
              "50%       0.000000    54.000000  ...     0.960000   107.000000\n",
              "75%       0.000000    67.000000  ...     1.060000   129.000000\n",
              "max       1.000000    98.000000  ...     2.210000   881.000000\n",
              "\n",
              "[8 rows x 19 columns]"
            ]
          },
          "metadata": {
            "tags": []
          },
          "execution_count": 23
        }
      ]
    },
    {
      "cell_type": "code",
      "metadata": {
        "id": "eEI7qDHc4dS7",
        "colab_type": "code",
        "outputId": "2530b096-1f01-4e3d-8a3f-e66f9a2f0d56",
        "colab": {
          "base_uri": "https://localhost:8080/",
          "height": 350
        }
      },
      "source": [
        "#Check how many people are suffering from hypothyroid\n",
        "plt.figure(figsize=(4, 5))\n",
        "sns.countplot(df.status, order = df.status.value_counts().index)\n",
        "plt.title(\"Count of patients hypothyroid status\")\n",
        "plt.show()\n",
        "#we can see that most people from the dataset do not suffer from hypothyroid "
      ],
      "execution_count": 0,
      "outputs": [
        {
          "output_type": "display_data",
          "data": {
            "image/png": "[encoded data removed]",
            "text/plain": [
              "<Figure size 288x360 with 1 Axes>"
            ]
          },
          "metadata": {
            "tags": []
          }
        }
      ]
    },
    {
      "cell_type": "code",
      "metadata": {
        "id": "JMdRaHRUDkfZ",
        "colab_type": "code",
        "outputId": "5f008b27-bf07-4ae4-cc2a-b6f4f310bea3",
        "colab": {
          "base_uri": "https://localhost:8080/",
          "height": 296
        }
      },
      "source": [
        "#People who came for the clinic were they male or female.What is the ratio\n",
        "plt.figure(figsize=(13, 4))\n",
        "sns.countplot(df.sex, order = df.sex.value_counts().index)\n",
        "#Our dataset has more females tested than males "
      ],
      "execution_count": 0,
      "outputs": [
        {
          "output_type": "execute_result",
          "data": {
            "text/plain": [
              "<matplotlib.axes._subplots.AxesSubplot at 0x7fe4218c4eb8>"
            ]
          },
          "metadata": {
            "tags": []
          },
          "execution_count": 25
        },
        {
          "output_type": "display_data",
          "data": {
            "image/png": "[encoded data removed]",
            "text/plain": [
              "<Figure size 936x288 with 1 Axes>"
            ]
          },
          "metadata": {
            "tags": []
          }
        }
      ]
    },
    {
      "cell_type": "markdown",
      "metadata": {
        "id": "j6mOcCTC6aJo",
        "colab_type": "text"
      },
      "source": [
        "##Bivariate Analysis"
      ]
    },
    {
      "cell_type": "code",
      "metadata": {
        "id": "4TvvsKTgEAyl",
        "colab_type": "code",
        "outputId": "6a05ebb3-a4f5-4e8a-a271-b04bf7093b00",
        "colab": {
          "base_uri": "https://localhost:8080/",
          "height": 224
        }
      },
      "source": [
        "pd.set_option('display.max_columns',100)\n",
        "pd.set_option('display.max_rows',300)\n",
        "df.groupby(['sex','status']).count().sort_values(by = ['status','sex'], ascending =False)\n",
        "\n",
        "#From the data we can see most people with hypothyroid are women\n",
        "#They are 94 "
      ],
      "execution_count": 0,
      "outputs": [
        {
          "output_type": "execute_result",
          "data": {
            "text/html": [
              "<div>\n",
              "<style scoped>\n",
              "    .dataframe tbody tr th:only-of-type {\n",
              "        vertical-align: middle;\n",
              "    }\n",
              "\n",
              "    .dataframe tbody tr th {\n",
              "        vertical-align: top;\n",
              "    }\n",
              "\n",
              "    .dataframe thead th {\n",
              "        text-align: right;\n",
              "    }\n",
              "</style>\n",
              "<table border=\"1\" class=\"dataframe\">\n",
              "  <thead>\n",
              "    <tr style=\"text-align: right;\">\n",
              "      <th></th>\n",
              "      <th></th>\n",
              "      <th>age</th>\n",
              "      <th>on_thyroxine</th>\n",
              "      <th>query_on_thyroxine</th>\n",
              "      <th>on_antithyroid_medication</th>\n",
              "      <th>thyroid_surgery</th>\n",
              "      <th>query_hypothyroid</th>\n",
              "      <th>query_hyperthyroid</th>\n",
              "      <th>pregnant</th>\n",
              "      <th>sick</th>\n",
              "      <th>tumor</th>\n",
              "      <th>lithium</th>\n",
              "      <th>goitre</th>\n",
              "      <th>TSH_measured</th>\n",
              "      <th>TSH</th>\n",
              "      <th>T3_measured</th>\n",
              "      <th>T3</th>\n",
              "      <th>TT4_measured</th>\n",
              "      <th>TT4</th>\n",
              "      <th>T4U_measured</th>\n",
              "      <th>T4U</th>\n",
              "      <th>FTI_measured</th>\n",
              "      <th>FTI</th>\n",
              "    </tr>\n",
              "    <tr>\n",
              "      <th>sex</th>\n",
              "      <th>status</th>\n",
              "      <th></th>\n",
              "      <th></th>\n",
              "      <th></th>\n",
              "      <th></th>\n",
              "      <th></th>\n",
              "      <th></th>\n",
              "      <th></th>\n",
              "      <th></th>\n",
              "      <th></th>\n",
              "      <th></th>\n",
              "      <th></th>\n",
              "      <th></th>\n",
              "      <th></th>\n",
              "      <th></th>\n",
              "      <th></th>\n",
              "      <th></th>\n",
              "      <th></th>\n",
              "      <th></th>\n",
              "      <th></th>\n",
              "      <th></th>\n",
              "      <th></th>\n",
              "      <th></th>\n",
              "    </tr>\n",
              "  </thead>\n",
              "  <tbody>\n",
              "    <tr>\n",
              "      <th>1.0</th>\n",
              "      <th>1</th>\n",
              "      <td>34</td>\n",
              "      <td>34</td>\n",
              "      <td>34</td>\n",
              "      <td>34</td>\n",
              "      <td>34</td>\n",
              "      <td>34</td>\n",
              "      <td>34</td>\n",
              "      <td>34</td>\n",
              "      <td>34</td>\n",
              "      <td>34</td>\n",
              "      <td>34</td>\n",
              "      <td>34</td>\n",
              "      <td>34</td>\n",
              "      <td>34</td>\n",
              "      <td>34</td>\n",
              "      <td>34</td>\n",
              "      <td>34</td>\n",
              "      <td>34</td>\n",
              "      <td>34</td>\n",
              "      <td>34</td>\n",
              "      <td>34</td>\n",
              "      <td>34</td>\n",
              "    </tr>\n",
              "    <tr>\n",
              "      <th>0.0</th>\n",
              "      <th>1</th>\n",
              "      <td>94</td>\n",
              "      <td>94</td>\n",
              "      <td>94</td>\n",
              "      <td>94</td>\n",
              "      <td>94</td>\n",
              "      <td>94</td>\n",
              "      <td>94</td>\n",
              "      <td>94</td>\n",
              "      <td>94</td>\n",
              "      <td>94</td>\n",
              "      <td>94</td>\n",
              "      <td>94</td>\n",
              "      <td>94</td>\n",
              "      <td>94</td>\n",
              "      <td>94</td>\n",
              "      <td>94</td>\n",
              "      <td>94</td>\n",
              "      <td>94</td>\n",
              "      <td>94</td>\n",
              "      <td>94</td>\n",
              "      <td>94</td>\n",
              "      <td>94</td>\n",
              "    </tr>\n",
              "    <tr>\n",
              "      <th>1.0</th>\n",
              "      <th>0</th>\n",
              "      <td>717</td>\n",
              "      <td>717</td>\n",
              "      <td>717</td>\n",
              "      <td>717</td>\n",
              "      <td>717</td>\n",
              "      <td>717</td>\n",
              "      <td>717</td>\n",
              "      <td>717</td>\n",
              "      <td>717</td>\n",
              "      <td>717</td>\n",
              "      <td>717</td>\n",
              "      <td>717</td>\n",
              "      <td>717</td>\n",
              "      <td>717</td>\n",
              "      <td>717</td>\n",
              "      <td>717</td>\n",
              "      <td>717</td>\n",
              "      <td>717</td>\n",
              "      <td>717</td>\n",
              "      <td>717</td>\n",
              "      <td>717</td>\n",
              "      <td>717</td>\n",
              "    </tr>\n",
              "    <tr>\n",
              "      <th>0.0</th>\n",
              "      <th>0</th>\n",
              "      <td>1494</td>\n",
              "      <td>1494</td>\n",
              "      <td>1494</td>\n",
              "      <td>1494</td>\n",
              "      <td>1494</td>\n",
              "      <td>1494</td>\n",
              "      <td>1494</td>\n",
              "      <td>1494</td>\n",
              "      <td>1494</td>\n",
              "      <td>1494</td>\n",
              "      <td>1494</td>\n",
              "      <td>1494</td>\n",
              "      <td>1494</td>\n",
              "      <td>1494</td>\n",
              "      <td>1494</td>\n",
              "      <td>1494</td>\n",
              "      <td>1494</td>\n",
              "      <td>1494</td>\n",
              "      <td>1494</td>\n",
              "      <td>1494</td>\n",
              "      <td>1494</td>\n",
              "      <td>1494</td>\n",
              "    </tr>\n",
              "  </tbody>\n",
              "</table>\n",
              "</div>"
            ],
            "text/plain": [
              "             age  on_thyroxine  query_on_thyroxine  on_antithyroid_medication  \\\n",
              "sex status                                                                      \n",
              "1.0 1         34            34                  34                         34   \n",
              "0.0 1         94            94                  94                         94   \n",
              "1.0 0        717           717                 717                        717   \n",
              "0.0 0       1494          1494                1494                       1494   \n",
              "\n",
              "            thyroid_surgery  query_hypothyroid  query_hyperthyroid  pregnant  \\\n",
              "sex status                                                                     \n",
              "1.0 1                    34                 34                  34        34   \n",
              "0.0 1                    94                 94                  94        94   \n",
              "1.0 0                   717                717                 717       717   \n",
              "0.0 0                  1494               1494                1494      1494   \n",
              "\n",
              "            sick  tumor  lithium  goitre  TSH_measured   TSH  T3_measured  \\\n",
              "sex status                                                                  \n",
              "1.0 1         34     34       34      34            34    34           34   \n",
              "0.0 1         94     94       94      94            94    94           94   \n",
              "1.0 0        717    717      717     717           717   717          717   \n",
              "0.0 0       1494   1494     1494    1494          1494  1494         1494   \n",
              "\n",
              "              T3  TT4_measured   TT4  T4U_measured   T4U  FTI_measured   FTI  \n",
              "sex status                                                                    \n",
              "1.0 1         34            34    34            34    34            34    34  \n",
              "0.0 1         94            94    94            94    94            94    94  \n",
              "1.0 0        717           717   717           717   717           717   717  \n",
              "0.0 0       1494          1494  1494          1494  1494          1494  1494  "
            ]
          },
          "metadata": {
            "tags": []
          },
          "execution_count": 76
        }
      ]
    },
    {
      "cell_type": "code",
      "metadata": {
        "id": "xXUCmlzak8LS",
        "colab_type": "code",
        "outputId": "4a1386b7-bccd-4c8c-9a85-1359b6d8ad46",
        "colab": {
          "base_uri": "https://localhost:8080/",
          "height": 470
        }
      },
      "source": [
        "pd.set_option('display.max_columns',100)\n",
        "pd.set_option('display.max_rows',50)\n",
        "df.groupby([\"age\"]).count().sort_values(by = ['status'], ascending =False)\n",
        "\n",
        "#Most people at the age of 59 are high likely to suffer from hypothyroid"
      ],
      "execution_count": 0,
      "outputs": [
        {
          "output_type": "execute_result",
          "data": {
            "text/html": [
              "<div>\n",
              "<style scoped>\n",
              "    .dataframe tbody tr th:only-of-type {\n",
              "        vertical-align: middle;\n",
              "    }\n",
              "\n",
              "    .dataframe tbody tr th {\n",
              "        vertical-align: top;\n",
              "    }\n",
              "\n",
              "    .dataframe thead th {\n",
              "        text-align: right;\n",
              "    }\n",
              "</style>\n",
              "<table border=\"1\" class=\"dataframe\">\n",
              "  <thead>\n",
              "    <tr style=\"text-align: right;\">\n",
              "      <th></th>\n",
              "      <th>status</th>\n",
              "      <th>sex</th>\n",
              "      <th>on_thyroxine</th>\n",
              "      <th>query_on_thyroxine</th>\n",
              "      <th>on_antithyroid_medication</th>\n",
              "      <th>thyroid_surgery</th>\n",
              "      <th>query_hypothyroid</th>\n",
              "      <th>query_hyperthyroid</th>\n",
              "      <th>pregnant</th>\n",
              "      <th>sick</th>\n",
              "      <th>tumor</th>\n",
              "      <th>lithium</th>\n",
              "      <th>goitre</th>\n",
              "      <th>TSH_measured</th>\n",
              "      <th>TSH</th>\n",
              "      <th>T3_measured</th>\n",
              "      <th>T3</th>\n",
              "      <th>TT4_measured</th>\n",
              "      <th>TT4</th>\n",
              "      <th>T4U_measured</th>\n",
              "      <th>T4U</th>\n",
              "      <th>FTI_measured</th>\n",
              "      <th>FTI</th>\n",
              "    </tr>\n",
              "    <tr>\n",
              "      <th>age</th>\n",
              "      <th></th>\n",
              "      <th></th>\n",
              "      <th></th>\n",
              "      <th></th>\n",
              "      <th></th>\n",
              "      <th></th>\n",
              "      <th></th>\n",
              "      <th></th>\n",
              "      <th></th>\n",
              "      <th></th>\n",
              "      <th></th>\n",
              "      <th></th>\n",
              "      <th></th>\n",
              "      <th></th>\n",
              "      <th></th>\n",
              "      <th></th>\n",
              "      <th></th>\n",
              "      <th></th>\n",
              "      <th></th>\n",
              "      <th></th>\n",
              "      <th></th>\n",
              "      <th></th>\n",
              "      <th></th>\n",
              "    </tr>\n",
              "  </thead>\n",
              "  <tbody>\n",
              "    <tr>\n",
              "      <th>59.0</th>\n",
              "      <td>61</td>\n",
              "      <td>61</td>\n",
              "      <td>61</td>\n",
              "      <td>61</td>\n",
              "      <td>61</td>\n",
              "      <td>61</td>\n",
              "      <td>61</td>\n",
              "      <td>61</td>\n",
              "      <td>61</td>\n",
              "      <td>61</td>\n",
              "      <td>61</td>\n",
              "      <td>61</td>\n",
              "      <td>61</td>\n",
              "      <td>61</td>\n",
              "      <td>50</td>\n",
              "      <td>61</td>\n",
              "      <td>48</td>\n",
              "      <td>61</td>\n",
              "      <td>57</td>\n",
              "      <td>61</td>\n",
              "      <td>57</td>\n",
              "      <td>61</td>\n",
              "      <td>57</td>\n",
              "    </tr>\n",
              "    <tr>\n",
              "      <th>62.0</th>\n",
              "      <td>61</td>\n",
              "      <td>61</td>\n",
              "      <td>61</td>\n",
              "      <td>61</td>\n",
              "      <td>61</td>\n",
              "      <td>61</td>\n",
              "      <td>61</td>\n",
              "      <td>61</td>\n",
              "      <td>61</td>\n",
              "      <td>61</td>\n",
              "      <td>61</td>\n",
              "      <td>61</td>\n",
              "      <td>61</td>\n",
              "      <td>61</td>\n",
              "      <td>56</td>\n",
              "      <td>61</td>\n",
              "      <td>49</td>\n",
              "      <td>61</td>\n",
              "      <td>58</td>\n",
              "      <td>61</td>\n",
              "      <td>58</td>\n",
              "      <td>61</td>\n",
              "      <td>58</td>\n",
              "    </tr>\n",
              "    <tr>\n",
              "      <th>60.0</th>\n",
              "      <td>59</td>\n",
              "      <td>59</td>\n",
              "      <td>59</td>\n",
              "      <td>59</td>\n",
              "      <td>59</td>\n",
              "      <td>59</td>\n",
              "      <td>59</td>\n",
              "      <td>59</td>\n",
              "      <td>59</td>\n",
              "      <td>59</td>\n",
              "      <td>59</td>\n",
              "      <td>59</td>\n",
              "      <td>59</td>\n",
              "      <td>59</td>\n",
              "      <td>53</td>\n",
              "      <td>59</td>\n",
              "      <td>49</td>\n",
              "      <td>59</td>\n",
              "      <td>55</td>\n",
              "      <td>59</td>\n",
              "      <td>55</td>\n",
              "      <td>59</td>\n",
              "      <td>55</td>\n",
              "    </tr>\n",
              "    <tr>\n",
              "      <th>72.0</th>\n",
              "      <td>58</td>\n",
              "      <td>58</td>\n",
              "      <td>58</td>\n",
              "      <td>58</td>\n",
              "      <td>58</td>\n",
              "      <td>58</td>\n",
              "      <td>58</td>\n",
              "      <td>58</td>\n",
              "      <td>58</td>\n",
              "      <td>58</td>\n",
              "      <td>58</td>\n",
              "      <td>58</td>\n",
              "      <td>58</td>\n",
              "      <td>58</td>\n",
              "      <td>56</td>\n",
              "      <td>58</td>\n",
              "      <td>51</td>\n",
              "      <td>58</td>\n",
              "      <td>57</td>\n",
              "      <td>58</td>\n",
              "      <td>57</td>\n",
              "      <td>58</td>\n",
              "      <td>57</td>\n",
              "    </tr>\n",
              "    <tr>\n",
              "      <th>58.0</th>\n",
              "      <td>57</td>\n",
              "      <td>57</td>\n",
              "      <td>57</td>\n",
              "      <td>57</td>\n",
              "      <td>57</td>\n",
              "      <td>57</td>\n",
              "      <td>57</td>\n",
              "      <td>57</td>\n",
              "      <td>57</td>\n",
              "      <td>57</td>\n",
              "      <td>57</td>\n",
              "      <td>57</td>\n",
              "      <td>57</td>\n",
              "      <td>57</td>\n",
              "      <td>52</td>\n",
              "      <td>57</td>\n",
              "      <td>45</td>\n",
              "      <td>57</td>\n",
              "      <td>54</td>\n",
              "      <td>57</td>\n",
              "      <td>54</td>\n",
              "      <td>57</td>\n",
              "      <td>54</td>\n",
              "    </tr>\n",
              "    <tr>\n",
              "      <th>...</th>\n",
              "      <td>...</td>\n",
              "      <td>...</td>\n",
              "      <td>...</td>\n",
              "      <td>...</td>\n",
              "      <td>...</td>\n",
              "      <td>...</td>\n",
              "      <td>...</td>\n",
              "      <td>...</td>\n",
              "      <td>...</td>\n",
              "      <td>...</td>\n",
              "      <td>...</td>\n",
              "      <td>...</td>\n",
              "      <td>...</td>\n",
              "      <td>...</td>\n",
              "      <td>...</td>\n",
              "      <td>...</td>\n",
              "      <td>...</td>\n",
              "      <td>...</td>\n",
              "      <td>...</td>\n",
              "      <td>...</td>\n",
              "      <td>...</td>\n",
              "      <td>...</td>\n",
              "      <td>...</td>\n",
              "    </tr>\n",
              "    <tr>\n",
              "      <th>5.0</th>\n",
              "      <td>1</td>\n",
              "      <td>1</td>\n",
              "      <td>1</td>\n",
              "      <td>1</td>\n",
              "      <td>1</td>\n",
              "      <td>1</td>\n",
              "      <td>1</td>\n",
              "      <td>1</td>\n",
              "      <td>1</td>\n",
              "      <td>1</td>\n",
              "      <td>1</td>\n",
              "      <td>1</td>\n",
              "      <td>1</td>\n",
              "      <td>1</td>\n",
              "      <td>1</td>\n",
              "      <td>1</td>\n",
              "      <td>1</td>\n",
              "      <td>1</td>\n",
              "      <td>1</td>\n",
              "      <td>1</td>\n",
              "      <td>1</td>\n",
              "      <td>1</td>\n",
              "      <td>1</td>\n",
              "    </tr>\n",
              "    <tr>\n",
              "      <th>90.0</th>\n",
              "      <td>1</td>\n",
              "      <td>1</td>\n",
              "      <td>1</td>\n",
              "      <td>1</td>\n",
              "      <td>1</td>\n",
              "      <td>1</td>\n",
              "      <td>1</td>\n",
              "      <td>1</td>\n",
              "      <td>1</td>\n",
              "      <td>1</td>\n",
              "      <td>1</td>\n",
              "      <td>1</td>\n",
              "      <td>1</td>\n",
              "      <td>1</td>\n",
              "      <td>1</td>\n",
              "      <td>1</td>\n",
              "      <td>1</td>\n",
              "      <td>1</td>\n",
              "      <td>1</td>\n",
              "      <td>1</td>\n",
              "      <td>1</td>\n",
              "      <td>1</td>\n",
              "      <td>1</td>\n",
              "    </tr>\n",
              "    <tr>\n",
              "      <th>93.0</th>\n",
              "      <td>1</td>\n",
              "      <td>1</td>\n",
              "      <td>1</td>\n",
              "      <td>1</td>\n",
              "      <td>1</td>\n",
              "      <td>1</td>\n",
              "      <td>1</td>\n",
              "      <td>1</td>\n",
              "      <td>1</td>\n",
              "      <td>1</td>\n",
              "      <td>1</td>\n",
              "      <td>1</td>\n",
              "      <td>1</td>\n",
              "      <td>1</td>\n",
              "      <td>1</td>\n",
              "      <td>1</td>\n",
              "      <td>1</td>\n",
              "      <td>1</td>\n",
              "      <td>1</td>\n",
              "      <td>1</td>\n",
              "      <td>1</td>\n",
              "      <td>1</td>\n",
              "      <td>1</td>\n",
              "    </tr>\n",
              "    <tr>\n",
              "      <th>97.0</th>\n",
              "      <td>1</td>\n",
              "      <td>1</td>\n",
              "      <td>1</td>\n",
              "      <td>1</td>\n",
              "      <td>1</td>\n",
              "      <td>1</td>\n",
              "      <td>1</td>\n",
              "      <td>1</td>\n",
              "      <td>1</td>\n",
              "      <td>1</td>\n",
              "      <td>1</td>\n",
              "      <td>1</td>\n",
              "      <td>1</td>\n",
              "      <td>1</td>\n",
              "      <td>1</td>\n",
              "      <td>1</td>\n",
              "      <td>1</td>\n",
              "      <td>1</td>\n",
              "      <td>1</td>\n",
              "      <td>1</td>\n",
              "      <td>1</td>\n",
              "      <td>1</td>\n",
              "      <td>1</td>\n",
              "    </tr>\n",
              "    <tr>\n",
              "      <th>98.0</th>\n",
              "      <td>1</td>\n",
              "      <td>1</td>\n",
              "      <td>1</td>\n",
              "      <td>1</td>\n",
              "      <td>1</td>\n",
              "      <td>1</td>\n",
              "      <td>1</td>\n",
              "      <td>1</td>\n",
              "      <td>1</td>\n",
              "      <td>1</td>\n",
              "      <td>1</td>\n",
              "      <td>1</td>\n",
              "      <td>1</td>\n",
              "      <td>1</td>\n",
              "      <td>1</td>\n",
              "      <td>1</td>\n",
              "      <td>1</td>\n",
              "      <td>1</td>\n",
              "      <td>1</td>\n",
              "      <td>1</td>\n",
              "      <td>1</td>\n",
              "      <td>1</td>\n",
              "      <td>1</td>\n",
              "    </tr>\n",
              "  </tbody>\n",
              "</table>\n",
              "<p>92 rows × 23 columns</p>\n",
              "</div>"
            ],
            "text/plain": [
              "      status  sex  on_thyroxine  query_on_thyroxine  \\\n",
              "age                                                   \n",
              "59.0      61   61            61                  61   \n",
              "62.0      61   61            61                  61   \n",
              "60.0      59   59            59                  59   \n",
              "72.0      58   58            58                  58   \n",
              "58.0      57   57            57                  57   \n",
              "...      ...  ...           ...                 ...   \n",
              "5.0        1    1             1                   1   \n",
              "90.0       1    1             1                   1   \n",
              "93.0       1    1             1                   1   \n",
              "97.0       1    1             1                   1   \n",
              "98.0       1    1             1                   1   \n",
              "\n",
              "      on_antithyroid_medication  thyroid_surgery  query_hypothyroid  \\\n",
              "age                                                                   \n",
              "59.0                         61               61                 61   \n",
              "62.0                         61               61                 61   \n",
              "60.0                         59               59                 59   \n",
              "72.0                         58               58                 58   \n",
              "58.0                         57               57                 57   \n",
              "...                         ...              ...                ...   \n",
              "5.0                           1                1                  1   \n",
              "90.0                          1                1                  1   \n",
              "93.0                          1                1                  1   \n",
              "97.0                          1                1                  1   \n",
              "98.0                          1                1                  1   \n",
              "\n",
              "      query_hyperthyroid  pregnant  sick  tumor  lithium  goitre  \\\n",
              "age                                                                \n",
              "59.0                  61        61    61     61       61      61   \n",
              "62.0                  61        61    61     61       61      61   \n",
              "60.0                  59        59    59     59       59      59   \n",
              "72.0                  58        58    58     58       58      58   \n",
              "58.0                  57        57    57     57       57      57   \n",
              "...                  ...       ...   ...    ...      ...     ...   \n",
              "5.0                    1         1     1      1        1       1   \n",
              "90.0                   1         1     1      1        1       1   \n",
              "93.0                   1         1     1      1        1       1   \n",
              "97.0                   1         1     1      1        1       1   \n",
              "98.0                   1         1     1      1        1       1   \n",
              "\n",
              "      TSH_measured  TSH  T3_measured  T3  TT4_measured  TT4  T4U_measured  \\\n",
              "age                                                                         \n",
              "59.0            61   50           61  48            61   57            61   \n",
              "62.0            61   56           61  49            61   58            61   \n",
              "60.0            59   53           59  49            59   55            59   \n",
              "72.0            58   56           58  51            58   57            58   \n",
              "58.0            57   52           57  45            57   54            57   \n",
              "...            ...  ...          ...  ..           ...  ...           ...   \n",
              "5.0              1    1            1   1             1    1             1   \n",
              "90.0             1    1            1   1             1    1             1   \n",
              "93.0             1    1            1   1             1    1             1   \n",
              "97.0             1    1            1   1             1    1             1   \n",
              "98.0             1    1            1   1             1    1             1   \n",
              "\n",
              "      T4U  FTI_measured  FTI  \n",
              "age                           \n",
              "59.0   57            61   57  \n",
              "62.0   58            61   58  \n",
              "60.0   55            59   55  \n",
              "72.0   57            58   57  \n",
              "58.0   54            57   54  \n",
              "...   ...           ...  ...  \n",
              "5.0     1             1    1  \n",
              "90.0    1             1    1  \n",
              "93.0    1             1    1  \n",
              "97.0    1             1    1  \n",
              "98.0    1             1    1  \n",
              "\n",
              "[92 rows x 23 columns]"
            ]
          },
          "metadata": {
            "tags": []
          },
          "execution_count": 27
        }
      ]
    },
    {
      "cell_type": "code",
      "metadata": {
        "id": "xxujqAJuwLtw",
        "colab_type": "code",
        "outputId": "70e2e140-5948-485a-e8b9-eeb83a7b5851",
        "colab": {
          "base_uri": "https://localhost:8080/",
          "height": 630
        }
      },
      "source": [
        "#Check the correlation of our variables \n",
        "plt.figure(figsize=(24, 8))\n",
        "vg_corr = df.corr()\n",
        "sns.heatmap(vg_corr,xticklabels = vg_corr.columns.values,\n",
        "            yticklabels = vg_corr.columns.values,\n",
        "            annot = True);\n"
      ],
      "execution_count": 0,
      "outputs": [
        {
          "output_type": "display_data",
          "data": {
            "image/png": "[encoded data removed]",
            "text/plain": [
              "<Figure size 1728x576 with 2 Axes>"
            ]
          },
          "metadata": {
            "tags": []
          }
        }
      ]
    },
    {
      "cell_type": "markdown",
      "metadata": {
        "id": "gJwTUhmhBtfF",
        "colab_type": "text"
      },
      "source": [
        "We have a strong correlation between TT4 and T3\n",
        "However,i shall not drop any of them "
      ]
    },
    {
      "cell_type": "markdown",
      "metadata": {
        "id": "ubjHExKvHVsR",
        "colab_type": "text"
      },
      "source": [
        "#Regression"
      ]
    },
    {
      "cell_type": "markdown",
      "metadata": {
        "id": "-icCHT-UWCaF",
        "colab_type": "text"
      },
      "source": [
        "##Logistic Regression"
      ]
    },
    {
      "cell_type": "markdown",
      "metadata": {
        "id": "2ws16V5EIQMX",
        "colab_type": "text"
      },
      "source": [
        "Since the response variable is binary,we could go ahead and do the Logistic Regresssion\n",
        "\n",
        "Howvever,we need to deal with the missing values for the independent variables "
      ]
    },
    {
      "cell_type": "code",
      "metadata": {
        "id": "HnQbWCP0H8eT",
        "colab_type": "code",
        "outputId": "c7e07625-df22-4b07-a2ad-feca6b7f5026",
        "colab": {
          "base_uri": "https://localhost:8080/",
          "height": 296
        }
      },
      "source": [
        "sns.boxplot(x='status', y='age', data=df, palette='hls')"
      ],
      "execution_count": 0,
      "outputs": [
        {
          "output_type": "execute_result",
          "data": {
            "text/plain": [
              "<matplotlib.axes._subplots.AxesSubplot at 0x7fe42170e898>"
            ]
          },
          "metadata": {
            "tags": []
          },
          "execution_count": 29
        },
        {
          "output_type": "display_data",
          "data": {
            "image/png": "[encoded data removed]",
            "text/plain": [
              "<Figure size 432x288 with 1 Axes>"
            ]
          },
          "metadata": {
            "tags": []
          }
        }
      ]
    },
    {
      "cell_type": "code",
      "metadata": {
        "id": "3R2saQknQeBw",
        "colab_type": "code",
        "outputId": "154b8f4c-255d-457e-9a33-c6165f01f37a",
        "colab": {
          "base_uri": "https://localhost:8080/",
          "height": 296
        }
      },
      "source": [
        "#Create the histogram to determine what age bracket if mainly in the dataset\n",
        "#We drop nan since histogram does not work when w have missing values \n",
        "sns.distplot(df[\"age\"].dropna())"
      ],
      "execution_count": 0,
      "outputs": [
        {
          "output_type": "execute_result",
          "data": {
            "text/plain": [
              "<matplotlib.axes._subplots.AxesSubplot at 0x7fe41e7e7c88>"
            ]
          },
          "metadata": {
            "tags": []
          },
          "execution_count": 30
        },
        {
          "output_type": "display_data",
          "data": {
            "image/png": "[encoded data removed]",
            "text/plain": [
              "<Figure size 432x288 with 1 Axes>"
            ]
          },
          "metadata": {
            "tags": []
          }
        }
      ]
    },
    {
      "cell_type": "code",
      "metadata": {
        "id": "iaxYpmJrKO7z",
        "colab_type": "code",
        "outputId": "d6a3a905-7bbb-47d9-8186-e1fda236b3c9",
        "colab": {
          "base_uri": "https://localhost:8080/",
          "height": 442
        }
      },
      "source": [
        "#replace the nans in age with 50 for females and 55 for males\n",
        "df['age'] = df['age'].fillna(67)\n",
        "df.isnull().sum()"
      ],
      "execution_count": 0,
      "outputs": [
        {
          "output_type": "execute_result",
          "data": {
            "text/plain": [
              "status                         0\n",
              "age                            0\n",
              "sex                           73\n",
              "on_thyroxine                   0\n",
              "query_on_thyroxine             0\n",
              "on_antithyroid_medication      0\n",
              "thyroid_surgery                0\n",
              "query_hypothyroid              0\n",
              "query_hyperthyroid             0\n",
              "pregnant                       0\n",
              "sick                           0\n",
              "tumor                          0\n",
              "lithium                        0\n",
              "goitre                         0\n",
              "TSH_measured                   0\n",
              "TSH                          380\n",
              "T3_measured                    0\n",
              "T3                           605\n",
              "TT4_measured                   0\n",
              "TT4                          165\n",
              "T4U_measured                   0\n",
              "T4U                          164\n",
              "FTI_measured                   0\n",
              "FTI                          163\n",
              "dtype: int64"
            ]
          },
          "metadata": {
            "tags": []
          },
          "execution_count": 31
        }
      ]
    },
    {
      "cell_type": "code",
      "metadata": {
        "id": "sZrzNrxkI1io",
        "colab_type": "code",
        "outputId": "3ddc9829-db76-4a35-80a2-a6fb80e492ad",
        "colab": {
          "base_uri": "https://localhost:8080/",
          "height": 295
        }
      },
      "source": [
        "sns.distplot(df[\"age\"])\n",
        "plt.title(\"Age set in the dataset\")\n",
        "plt.xlabel(\"Age\")\n",
        "plt.show()\n"
      ],
      "execution_count": 0,
      "outputs": [
        {
          "output_type": "display_data",
          "data": {
            "image/png": "[encoded data removed]",
            "text/plain": [
              "<Figure size 432x288 with 1 Axes>"
            ]
          },
          "metadata": {
            "tags": []
          }
        }
      ]
    },
    {
      "cell_type": "code",
      "metadata": {
        "id": "Hgkma5arJiQb",
        "colab_type": "code",
        "colab": {}
      },
      "source": [
        "#The column sex has a number of missing values as well \n",
        "df['sex'] = df['sex'].bfill()"
      ],
      "execution_count": 0,
      "outputs": []
    },
    {
      "cell_type": "code",
      "metadata": {
        "id": "0tt24d9bUPBP",
        "colab_type": "code",
        "outputId": "a2530b42-689b-40f4-c805-d110d1a8db8d",
        "colab": {
          "base_uri": "https://localhost:8080/",
          "height": 442
        }
      },
      "source": [
        "df.isnull().sum()\n",
        "#We have filled the columns we shall be using for modelling\n",
        "#we can go ahead and create the model"
      ],
      "execution_count": 0,
      "outputs": [
        {
          "output_type": "execute_result",
          "data": {
            "text/plain": [
              "status                         0\n",
              "age                            0\n",
              "sex                            0\n",
              "on_thyroxine                   0\n",
              "query_on_thyroxine             0\n",
              "on_antithyroid_medication      0\n",
              "thyroid_surgery                0\n",
              "query_hypothyroid              0\n",
              "query_hyperthyroid             0\n",
              "pregnant                       0\n",
              "sick                           0\n",
              "tumor                          0\n",
              "lithium                        0\n",
              "goitre                         0\n",
              "TSH_measured                   0\n",
              "TSH                          380\n",
              "T3_measured                    0\n",
              "T3                           605\n",
              "TT4_measured                   0\n",
              "TT4                          165\n",
              "T4U_measured                   0\n",
              "T4U                          164\n",
              "FTI_measured                   0\n",
              "FTI                          163\n",
              "dtype: int64"
            ]
          },
          "metadata": {
            "tags": []
          },
          "execution_count": 34
        }
      ]
    },
    {
      "cell_type": "code",
      "metadata": {
        "id": "xjzTv24PWtZD",
        "colab_type": "code",
        "outputId": "7c263ac5-200c-4241-dc77-86c887e882ad",
        "colab": {
          "base_uri": "https://localhost:8080/",
          "height": 119
        }
      },
      "source": [
        "df.columns"
      ],
      "execution_count": 0,
      "outputs": [
        {
          "output_type": "execute_result",
          "data": {
            "text/plain": [
              "Index(['status', 'age', 'sex', 'on_thyroxine', 'query_on_thyroxine',\n",
              "       'on_antithyroid_medication', 'thyroid_surgery', 'query_hypothyroid',\n",
              "       'query_hyperthyroid', 'pregnant', 'sick', 'tumor', 'lithium', 'goitre',\n",
              "       'TSH_measured', 'TSH', 'T3_measured', 'T3', 'TT4_measured', 'TT4',\n",
              "       'T4U_measured', 'T4U', 'FTI_measured', 'FTI'],\n",
              "      dtype='object')"
            ]
          },
          "metadata": {
            "tags": []
          },
          "execution_count": 35
        }
      ]
    },
    {
      "cell_type": "code",
      "metadata": {
        "id": "hWe1i6sMUTxp",
        "colab_type": "code",
        "colab": {}
      },
      "source": [
        "# Splitting our dataset\n",
        "#x will be the response variable \n",
        "#y is the predictor variable \n",
        "\n",
        "X = df.drop([\"status\",'TSH_measured','TSH', 'T3_measured', 'T3', 'TT4_measured', 'TT4',\n",
        "       'T4U_measured', 'T4U', 'FTI_measured', 'FTI'],axis=1)\n",
        "y = df[\"status\"]\n",
        "\n",
        "\n",
        "X_train, X_test, y_train, y_test = train_test_split(X, y, test_size = .3, random_state=25)"
      ],
      "execution_count": 0,
      "outputs": []
    },
    {
      "cell_type": "code",
      "metadata": {
        "id": "nykgqbmpW3Ju",
        "colab_type": "code",
        "outputId": "72d1fa91-87b5-420b-e56f-b1451659becd",
        "colab": {
          "base_uri": "https://localhost:8080/",
          "height": 258
        }
      },
      "source": [
        "# Fitting our model\n",
        "#\n",
        "LogReg = LogisticRegression()\n",
        "LogReg.fit(X_train, y_train)"
      ],
      "execution_count": 0,
      "outputs": [
        {
          "output_type": "stream",
          "text": [
            "/usr/local/lib/python3.6/dist-packages/sklearn/linear_model/_logistic.py:940: ConvergenceWarning: lbfgs failed to converge (status=1):\n",
            "STOP: TOTAL NO. of ITERATIONS REACHED LIMIT.\n",
            "\n",
            "Increase the number of iterations (max_iter) or scale the data as shown in:\n",
            "    https://scikit-learn.org/stable/modules/preprocessing.html\n",
            "Please also refer to the documentation for alternative solver options:\n",
            "    https://scikit-learn.org/stable/modules/linear_model.html#logistic-regression\n",
            "  extra_warning_msg=_LOGISTIC_SOLVER_CONVERGENCE_MSG)\n"
          ],
          "name": "stderr"
        },
        {
          "output_type": "execute_result",
          "data": {
            "text/plain": [
              "LogisticRegression(C=1.0, class_weight=None, dual=False, fit_intercept=True,\n",
              "                   intercept_scaling=1, l1_ratio=None, max_iter=100,\n",
              "                   multi_class='auto', n_jobs=None, penalty='l2',\n",
              "                   random_state=None, solver='lbfgs', tol=0.0001, verbose=0,\n",
              "                   warm_start=False)"
            ]
          },
          "metadata": {
            "tags": []
          },
          "execution_count": 37
        }
      ]
    },
    {
      "cell_type": "code",
      "metadata": {
        "id": "9MqG54fdXdNl",
        "colab_type": "code",
        "colab": {}
      },
      "source": [
        "#Use the model to make predictions\n",
        "y_pred = LogReg.predict(X_test)"
      ],
      "execution_count": 0,
      "outputs": []
    },
    {
      "cell_type": "code",
      "metadata": {
        "id": "NA0fbffPf3X8",
        "colab_type": "code",
        "outputId": "894797f4-7fbe-4deb-d447-dd9f9d2f5598",
        "colab": {
          "base_uri": "https://localhost:8080/",
          "height": 359
        }
      },
      "source": [
        "#Lets look at our predictions\n",
        "comparison_frame = pd.DataFrame({'Actual' : y_test, 'Predicted' : y_pred})\n",
        "comparison_frame.sample(10)"
      ],
      "execution_count": 0,
      "outputs": [
        {
          "output_type": "execute_result",
          "data": {
            "text/html": [
              "<div>\n",
              "<style scoped>\n",
              "    .dataframe tbody tr th:only-of-type {\n",
              "        vertical-align: middle;\n",
              "    }\n",
              "\n",
              "    .dataframe tbody tr th {\n",
              "        vertical-align: top;\n",
              "    }\n",
              "\n",
              "    .dataframe thead th {\n",
              "        text-align: right;\n",
              "    }\n",
              "</style>\n",
              "<table border=\"1\" class=\"dataframe\">\n",
              "  <thead>\n",
              "    <tr style=\"text-align: right;\">\n",
              "      <th></th>\n",
              "      <th>Actual</th>\n",
              "      <th>Predicted</th>\n",
              "    </tr>\n",
              "  </thead>\n",
              "  <tbody>\n",
              "    <tr>\n",
              "      <th>1104</th>\n",
              "      <td>0</td>\n",
              "      <td>0</td>\n",
              "    </tr>\n",
              "    <tr>\n",
              "      <th>1605</th>\n",
              "      <td>0</td>\n",
              "      <td>0</td>\n",
              "    </tr>\n",
              "    <tr>\n",
              "      <th>1580</th>\n",
              "      <td>0</td>\n",
              "      <td>0</td>\n",
              "    </tr>\n",
              "    <tr>\n",
              "      <th>1411</th>\n",
              "      <td>0</td>\n",
              "      <td>0</td>\n",
              "    </tr>\n",
              "    <tr>\n",
              "      <th>557</th>\n",
              "      <td>0</td>\n",
              "      <td>0</td>\n",
              "    </tr>\n",
              "    <tr>\n",
              "      <th>1730</th>\n",
              "      <td>0</td>\n",
              "      <td>0</td>\n",
              "    </tr>\n",
              "    <tr>\n",
              "      <th>1439</th>\n",
              "      <td>0</td>\n",
              "      <td>0</td>\n",
              "    </tr>\n",
              "    <tr>\n",
              "      <th>51</th>\n",
              "      <td>1</td>\n",
              "      <td>0</td>\n",
              "    </tr>\n",
              "    <tr>\n",
              "      <th>2816</th>\n",
              "      <td>0</td>\n",
              "      <td>0</td>\n",
              "    </tr>\n",
              "    <tr>\n",
              "      <th>2223</th>\n",
              "      <td>0</td>\n",
              "      <td>0</td>\n",
              "    </tr>\n",
              "  </tbody>\n",
              "</table>\n",
              "</div>"
            ],
            "text/plain": [
              "      Actual  Predicted\n",
              "1104       0          0\n",
              "1605       0          0\n",
              "1580       0          0\n",
              "1411       0          0\n",
              "557        0          0\n",
              "1730       0          0\n",
              "1439       0          0\n",
              "51         1          0\n",
              "2816       0          0\n",
              "2223       0          0"
            ]
          },
          "metadata": {
            "tags": []
          },
          "execution_count": 39
        }
      ]
    },
    {
      "cell_type": "code",
      "metadata": {
        "id": "_5e9It1DZpx9",
        "colab_type": "code",
        "outputId": "91ade54e-60c7-4bf1-d6a8-0bbc6282083e",
        "colab": {
          "base_uri": "https://localhost:8080/",
          "height": 51
        }
      },
      "source": [
        "# Evaluating the model\n",
        "#\n",
        "from sklearn.metrics import confusion_matrix\n",
        "confusion_matrix = confusion_matrix(y_test, y_pred)\n",
        "confusion_matrix\n",
        "#We have 858 correct predictions and 46 wrong prediction"
      ],
      "execution_count": 0,
      "outputs": [
        {
          "output_type": "execute_result",
          "data": {
            "text/plain": [
              "array([[858,   0],\n",
              "       [ 46,   0]])"
            ]
          },
          "metadata": {
            "tags": []
          },
          "execution_count": 40
        }
      ]
    },
    {
      "cell_type": "code",
      "metadata": {
        "id": "E_q4kAE_sCIx",
        "colab_type": "code",
        "outputId": "b2d2acfa-04e0-46f4-d401-1864f8cd1467",
        "colab": {
          "base_uri": "https://localhost:8080/",
          "height": 34
        }
      },
      "source": [
        "accuracy_score(y_test,y_pred)"
      ],
      "execution_count": 0,
      "outputs": [
        {
          "output_type": "execute_result",
          "data": {
            "text/plain": [
              "0.9491150442477876"
            ]
          },
          "metadata": {
            "tags": []
          },
          "execution_count": 41
        }
      ]
    },
    {
      "cell_type": "code",
      "metadata": {
        "id": "FHlTBD9vsuIX",
        "colab_type": "code",
        "colab": {}
      },
      "source": [
        "from sklearn.metrics import classification_report\n",
        "cr = classification_report()\n",
        "cr(y,y_pred)"
      ],
      "execution_count": 0,
      "outputs": []
    },
    {
      "cell_type": "markdown",
      "metadata": {
        "id": "7WZsXjQEdDGW",
        "colab_type": "text"
      },
      "source": [
        "##Random Forest"
      ]
    },
    {
      "cell_type": "code",
      "metadata": {
        "id": "4WuM3Y5igpMG",
        "colab_type": "code",
        "colab": {}
      },
      "source": [
        "#We will take care of the nan values we have in the remaining columns\n",
        "df1 = df.dropna(inplace=True)\n",
        "#df1.isnull().sum()"
      ],
      "execution_count": 0,
      "outputs": []
    },
    {
      "cell_type": "code",
      "metadata": {
        "id": "4SziCXVGZwVf",
        "colab_type": "code",
        "outputId": "08e67cc1-436f-45ab-ba7a-1ca34ccf26a6",
        "colab": {
          "base_uri": "https://localhost:8080/",
          "height": 224
        }
      },
      "source": [
        "#First lets encode the rest of the columns that are categorical\n",
        "\n",
        "df1 = pd.get_dummies(df, columns=['TSH_measured', 'T3_measured','TT4_measured',\n",
        "       'T4U_measured','FTI_measured'])\n",
        "df1.head()\n",
        "\n",
        "#All the column are now numerical"
      ],
      "execution_count": 0,
      "outputs": [
        {
          "output_type": "execute_result",
          "data": {
            "text/html": [
              "<div>\n",
              "<style scoped>\n",
              "    .dataframe tbody tr th:only-of-type {\n",
              "        vertical-align: middle;\n",
              "    }\n",
              "\n",
              "    .dataframe tbody tr th {\n",
              "        vertical-align: top;\n",
              "    }\n",
              "\n",
              "    .dataframe thead th {\n",
              "        text-align: right;\n",
              "    }\n",
              "</style>\n",
              "<table border=\"1\" class=\"dataframe\">\n",
              "  <thead>\n",
              "    <tr style=\"text-align: right;\">\n",
              "      <th></th>\n",
              "      <th>status</th>\n",
              "      <th>age</th>\n",
              "      <th>sex</th>\n",
              "      <th>on_thyroxine</th>\n",
              "      <th>query_on_thyroxine</th>\n",
              "      <th>on_antithyroid_medication</th>\n",
              "      <th>thyroid_surgery</th>\n",
              "      <th>query_hypothyroid</th>\n",
              "      <th>query_hyperthyroid</th>\n",
              "      <th>pregnant</th>\n",
              "      <th>sick</th>\n",
              "      <th>tumor</th>\n",
              "      <th>lithium</th>\n",
              "      <th>goitre</th>\n",
              "      <th>TSH</th>\n",
              "      <th>T3</th>\n",
              "      <th>TT4</th>\n",
              "      <th>T4U</th>\n",
              "      <th>FTI</th>\n",
              "      <th>TSH_measured_y</th>\n",
              "      <th>T3_measured_y</th>\n",
              "      <th>TT4_measured_y</th>\n",
              "      <th>T4U_measured_y</th>\n",
              "      <th>FTI_measured_y</th>\n",
              "    </tr>\n",
              "  </thead>\n",
              "  <tbody>\n",
              "    <tr>\n",
              "      <th>0</th>\n",
              "      <td>1</td>\n",
              "      <td>72.0</td>\n",
              "      <td>1.0</td>\n",
              "      <td>0</td>\n",
              "      <td>0</td>\n",
              "      <td>0</td>\n",
              "      <td>0</td>\n",
              "      <td>0</td>\n",
              "      <td>0</td>\n",
              "      <td>0</td>\n",
              "      <td>0</td>\n",
              "      <td>0</td>\n",
              "      <td>0</td>\n",
              "      <td>0</td>\n",
              "      <td>30.0</td>\n",
              "      <td>0.6</td>\n",
              "      <td>15.0</td>\n",
              "      <td>1.48</td>\n",
              "      <td>10.0</td>\n",
              "      <td>1</td>\n",
              "      <td>1</td>\n",
              "      <td>1</td>\n",
              "      <td>1</td>\n",
              "      <td>1</td>\n",
              "    </tr>\n",
              "    <tr>\n",
              "      <th>1</th>\n",
              "      <td>1</td>\n",
              "      <td>15.0</td>\n",
              "      <td>0.0</td>\n",
              "      <td>1</td>\n",
              "      <td>0</td>\n",
              "      <td>0</td>\n",
              "      <td>0</td>\n",
              "      <td>0</td>\n",
              "      <td>0</td>\n",
              "      <td>0</td>\n",
              "      <td>0</td>\n",
              "      <td>0</td>\n",
              "      <td>0</td>\n",
              "      <td>0</td>\n",
              "      <td>145.0</td>\n",
              "      <td>1.7</td>\n",
              "      <td>19.0</td>\n",
              "      <td>1.13</td>\n",
              "      <td>17.0</td>\n",
              "      <td>1</td>\n",
              "      <td>1</td>\n",
              "      <td>1</td>\n",
              "      <td>1</td>\n",
              "      <td>1</td>\n",
              "    </tr>\n",
              "    <tr>\n",
              "      <th>2</th>\n",
              "      <td>1</td>\n",
              "      <td>24.0</td>\n",
              "      <td>1.0</td>\n",
              "      <td>0</td>\n",
              "      <td>0</td>\n",
              "      <td>0</td>\n",
              "      <td>0</td>\n",
              "      <td>0</td>\n",
              "      <td>0</td>\n",
              "      <td>0</td>\n",
              "      <td>0</td>\n",
              "      <td>0</td>\n",
              "      <td>0</td>\n",
              "      <td>0</td>\n",
              "      <td>0.0</td>\n",
              "      <td>0.2</td>\n",
              "      <td>4.0</td>\n",
              "      <td>1.00</td>\n",
              "      <td>0.0</td>\n",
              "      <td>1</td>\n",
              "      <td>1</td>\n",
              "      <td>1</td>\n",
              "      <td>1</td>\n",
              "      <td>1</td>\n",
              "    </tr>\n",
              "    <tr>\n",
              "      <th>3</th>\n",
              "      <td>1</td>\n",
              "      <td>24.0</td>\n",
              "      <td>0.0</td>\n",
              "      <td>0</td>\n",
              "      <td>0</td>\n",
              "      <td>0</td>\n",
              "      <td>0</td>\n",
              "      <td>0</td>\n",
              "      <td>0</td>\n",
              "      <td>0</td>\n",
              "      <td>0</td>\n",
              "      <td>0</td>\n",
              "      <td>0</td>\n",
              "      <td>0</td>\n",
              "      <td>430.0</td>\n",
              "      <td>0.4</td>\n",
              "      <td>6.0</td>\n",
              "      <td>1.04</td>\n",
              "      <td>6.0</td>\n",
              "      <td>1</td>\n",
              "      <td>1</td>\n",
              "      <td>1</td>\n",
              "      <td>1</td>\n",
              "      <td>1</td>\n",
              "    </tr>\n",
              "    <tr>\n",
              "      <th>4</th>\n",
              "      <td>1</td>\n",
              "      <td>77.0</td>\n",
              "      <td>1.0</td>\n",
              "      <td>0</td>\n",
              "      <td>0</td>\n",
              "      <td>0</td>\n",
              "      <td>0</td>\n",
              "      <td>0</td>\n",
              "      <td>0</td>\n",
              "      <td>0</td>\n",
              "      <td>0</td>\n",
              "      <td>0</td>\n",
              "      <td>0</td>\n",
              "      <td>0</td>\n",
              "      <td>7.3</td>\n",
              "      <td>1.2</td>\n",
              "      <td>57.0</td>\n",
              "      <td>1.28</td>\n",
              "      <td>44.0</td>\n",
              "      <td>1</td>\n",
              "      <td>1</td>\n",
              "      <td>1</td>\n",
              "      <td>1</td>\n",
              "      <td>1</td>\n",
              "    </tr>\n",
              "  </tbody>\n",
              "</table>\n",
              "</div>"
            ],
            "text/plain": [
              "   status   age  sex  on_thyroxine  query_on_thyroxine  \\\n",
              "0       1  72.0  1.0             0                   0   \n",
              "1       1  15.0  0.0             1                   0   \n",
              "2       1  24.0  1.0             0                   0   \n",
              "3       1  24.0  0.0             0                   0   \n",
              "4       1  77.0  1.0             0                   0   \n",
              "\n",
              "   on_antithyroid_medication  thyroid_surgery  query_hypothyroid  \\\n",
              "0                          0                0                  0   \n",
              "1                          0                0                  0   \n",
              "2                          0                0                  0   \n",
              "3                          0                0                  0   \n",
              "4                          0                0                  0   \n",
              "\n",
              "   query_hyperthyroid  pregnant  sick  tumor  lithium  goitre    TSH   T3  \\\n",
              "0                   0         0     0      0        0       0   30.0  0.6   \n",
              "1                   0         0     0      0        0       0  145.0  1.7   \n",
              "2                   0         0     0      0        0       0    0.0  0.2   \n",
              "3                   0         0     0      0        0       0  430.0  0.4   \n",
              "4                   0         0     0      0        0       0    7.3  1.2   \n",
              "\n",
              "    TT4   T4U   FTI  TSH_measured_y  T3_measured_y  TT4_measured_y  \\\n",
              "0  15.0  1.48  10.0               1              1               1   \n",
              "1  19.0  1.13  17.0               1              1               1   \n",
              "2   4.0  1.00   0.0               1              1               1   \n",
              "3   6.0  1.04   6.0               1              1               1   \n",
              "4  57.0  1.28  44.0               1              1               1   \n",
              "\n",
              "   T4U_measured_y  FTI_measured_y  \n",
              "0               1               1  \n",
              "1               1               1  \n",
              "2               1               1  \n",
              "3               1               1  \n",
              "4               1               1  "
            ]
          },
          "metadata": {
            "tags": []
          },
          "execution_count": 44
        }
      ]
    },
    {
      "cell_type": "code",
      "metadata": {
        "id": "SUhckRYxbZN6",
        "colab_type": "code",
        "outputId": "14fe4712-e97f-4224-9860-bee9887e0000",
        "colab": {
          "base_uri": "https://localhost:8080/",
          "height": 442
        }
      },
      "source": [
        "df1.dtypes"
      ],
      "execution_count": 0,
      "outputs": [
        {
          "output_type": "execute_result",
          "data": {
            "text/plain": [
              "status                         int64\n",
              "age                          float64\n",
              "sex                          float64\n",
              "on_thyroxine                   int64\n",
              "query_on_thyroxine             int64\n",
              "on_antithyroid_medication      int64\n",
              "thyroid_surgery                int64\n",
              "query_hypothyroid              int64\n",
              "query_hyperthyroid             int64\n",
              "pregnant                       int64\n",
              "sick                           int64\n",
              "tumor                          int64\n",
              "lithium                        int64\n",
              "goitre                         int64\n",
              "TSH                          float64\n",
              "T3                           float64\n",
              "TT4                          float64\n",
              "T4U                          float64\n",
              "FTI                          float64\n",
              "TSH_measured_y                 uint8\n",
              "T3_measured_y                  uint8\n",
              "TT4_measured_y                 uint8\n",
              "T4U_measured_y                 uint8\n",
              "FTI_measured_y                 uint8\n",
              "dtype: object"
            ]
          },
          "metadata": {
            "tags": []
          },
          "execution_count": 45
        }
      ]
    },
    {
      "cell_type": "code",
      "metadata": {
        "id": "UHB_bgTLt6bv",
        "colab_type": "code",
        "outputId": "bfa360be-0ae9-4497-86fe-9f7728de75ee",
        "colab": {
          "base_uri": "https://localhost:8080/",
          "height": 442
        }
      },
      "source": [
        "#Convert status from object\n",
        "df1[\"status\"] = df1[\"status\"].apply(pd.to_numeric, errors='coerce')\n",
        "df1.dtypes"
      ],
      "execution_count": 0,
      "outputs": [
        {
          "output_type": "execute_result",
          "data": {
            "text/plain": [
              "status                         int64\n",
              "age                          float64\n",
              "sex                          float64\n",
              "on_thyroxine                   int64\n",
              "query_on_thyroxine             int64\n",
              "on_antithyroid_medication      int64\n",
              "thyroid_surgery                int64\n",
              "query_hypothyroid              int64\n",
              "query_hyperthyroid             int64\n",
              "pregnant                       int64\n",
              "sick                           int64\n",
              "tumor                          int64\n",
              "lithium                        int64\n",
              "goitre                         int64\n",
              "TSH                          float64\n",
              "T3                           float64\n",
              "TT4                          float64\n",
              "T4U                          float64\n",
              "FTI                          float64\n",
              "TSH_measured_y                 uint8\n",
              "T3_measured_y                  uint8\n",
              "TT4_measured_y                 uint8\n",
              "T4U_measured_y                 uint8\n",
              "FTI_measured_y                 uint8\n",
              "dtype: object"
            ]
          },
          "metadata": {
            "tags": []
          },
          "execution_count": 46
        }
      ]
    },
    {
      "cell_type": "code",
      "metadata": {
        "id": "3SVp9B4lhOLE",
        "colab_type": "code",
        "colab": {}
      },
      "source": [
        "# getting our feature names\n",
        "features = df1.columns.to_list()\n",
        "features.remove('status')\n",
        "\n",
        "#Split the dataset\n",
        "X = df1[features].values\n",
        "\n",
        "y = df1['status'].values\n",
        "#Train and test the dataset\n",
        "X_train, X_test, y_train, y_test = train_test_split(X, y, test_size=0.2, random_state=0)\n",
        "\n",
        "\n",
        "# Feature Scaling\n",
        "from sklearn.preprocessing import StandardScaler\n",
        "sc = StandardScaler()\n",
        "X_train = sc.fit_transform(X_train)\n",
        "X_test = sc.transform(X_test)"
      ],
      "execution_count": 0,
      "outputs": []
    },
    {
      "cell_type": "code",
      "metadata": {
        "id": "h0kUHut-iR54",
        "colab_type": "code",
        "colab": {}
      },
      "source": [
        "#Import the model\n",
        "forest = RandomForestRegressor(n_estimators = 100, random_state=21, min_samples_split = 20, max_depth=5)\n",
        "forest = forest.fit(X_train, y_train)"
      ],
      "execution_count": 0,
      "outputs": []
    },
    {
      "cell_type": "code",
      "metadata": {
        "id": "GxRdeYjZi4SJ",
        "colab_type": "code",
        "colab": {}
      },
      "source": [
        "#Make a prediction nased on the test\n",
        "y_pred = forest.predict(X_test)"
      ],
      "execution_count": 0,
      "outputs": []
    },
    {
      "cell_type": "code",
      "metadata": {
        "id": "S2L6cxhmYMBC",
        "colab_type": "code",
        "outputId": "ac9af462-bcc2-4a49-8b6f-bbc5dc96b26d",
        "colab": {
          "base_uri": "https://localhost:8080/",
          "height": 359
        }
      },
      "source": [
        "#Lets look at our predictions\n",
        "comparison_frame = pd.DataFrame({'Actual' : y_test, 'Predicted' : y_pred})\n",
        "comparison_frame.sample(10)"
      ],
      "execution_count": 0,
      "outputs": [
        {
          "output_type": "execute_result",
          "data": {
            "text/html": [
              "<div>\n",
              "<style scoped>\n",
              "    .dataframe tbody tr th:only-of-type {\n",
              "        vertical-align: middle;\n",
              "    }\n",
              "\n",
              "    .dataframe tbody tr th {\n",
              "        vertical-align: top;\n",
              "    }\n",
              "\n",
              "    .dataframe thead th {\n",
              "        text-align: right;\n",
              "    }\n",
              "</style>\n",
              "<table border=\"1\" class=\"dataframe\">\n",
              "  <thead>\n",
              "    <tr style=\"text-align: right;\">\n",
              "      <th></th>\n",
              "      <th>Actual</th>\n",
              "      <th>Predicted</th>\n",
              "    </tr>\n",
              "  </thead>\n",
              "  <tbody>\n",
              "    <tr>\n",
              "      <th>431</th>\n",
              "      <td>0</td>\n",
              "      <td>0.000023</td>\n",
              "    </tr>\n",
              "    <tr>\n",
              "      <th>136</th>\n",
              "      <td>0</td>\n",
              "      <td>0.000023</td>\n",
              "    </tr>\n",
              "    <tr>\n",
              "      <th>163</th>\n",
              "      <td>0</td>\n",
              "      <td>0.000023</td>\n",
              "    </tr>\n",
              "    <tr>\n",
              "      <th>453</th>\n",
              "      <td>0</td>\n",
              "      <td>0.000023</td>\n",
              "    </tr>\n",
              "    <tr>\n",
              "      <th>452</th>\n",
              "      <td>0</td>\n",
              "      <td>0.000023</td>\n",
              "    </tr>\n",
              "    <tr>\n",
              "      <th>182</th>\n",
              "      <td>0</td>\n",
              "      <td>0.000023</td>\n",
              "    </tr>\n",
              "    <tr>\n",
              "      <th>261</th>\n",
              "      <td>0</td>\n",
              "      <td>0.000023</td>\n",
              "    </tr>\n",
              "    <tr>\n",
              "      <th>292</th>\n",
              "      <td>0</td>\n",
              "      <td>0.000023</td>\n",
              "    </tr>\n",
              "    <tr>\n",
              "      <th>119</th>\n",
              "      <td>0</td>\n",
              "      <td>0.000023</td>\n",
              "    </tr>\n",
              "    <tr>\n",
              "      <th>26</th>\n",
              "      <td>0</td>\n",
              "      <td>0.000023</td>\n",
              "    </tr>\n",
              "  </tbody>\n",
              "</table>\n",
              "</div>"
            ],
            "text/plain": [
              "     Actual  Predicted\n",
              "431       0   0.000023\n",
              "136       0   0.000023\n",
              "163       0   0.000023\n",
              "453       0   0.000023\n",
              "452       0   0.000023\n",
              "182       0   0.000023\n",
              "261       0   0.000023\n",
              "292       0   0.000023\n",
              "119       0   0.000023\n",
              "26        0   0.000023"
            ]
          },
          "metadata": {
            "tags": []
          },
          "execution_count": 55
        }
      ]
    },
    {
      "cell_type": "code",
      "metadata": {
        "id": "OJDJaKfRfZIi",
        "colab_type": "code",
        "outputId": "f3b1e6e9-7cc6-4752-eba7-64fba613a768",
        "colab": {
          "base_uri": "https://localhost:8080/",
          "height": 68
        }
      },
      "source": [
        "#Check how good the model is\n",
        "from sklearn import metrics\n",
        "\n",
        "# And now we assess the errors\n",
        "print('Mean Absolute Error:', metrics.mean_absolute_error(y_test, y_pred))  \n",
        "print('Mean Squared Error:', metrics.mean_squared_error(y_test, y_pred))  \n",
        "print('Root Mean Squared Error:', np.sqrt(metrics.mean_squared_error(y_test, y_pred)))\n"
      ],
      "execution_count": 0,
      "outputs": [
        {
          "output_type": "stream",
          "text": [
            "Mean Absolute Error: 0.018024092261899365\n",
            "Mean Squared Error: 0.008525194038149173\n",
            "Root Mean Squared Error: 0.09233197733260765\n"
          ],
          "name": "stdout"
        }
      ]
    },
    {
      "cell_type": "code",
      "metadata": {
        "id": "qMd-in8Vffe_",
        "colab_type": "code",
        "outputId": "59e85650-52dd-4424-e0b8-1d9b2326834f",
        "colab": {
          "base_uri": "https://localhost:8080/",
          "height": 812
        }
      },
      "source": [
        "from sklearn.tree import export_graphviz\n",
        "from sklearn.externals.six import StringIO  \n",
        "from IPython.display import Image  \n",
        "import pydotplus\n",
        "\n",
        "dot_data = StringIO()\n",
        "\n",
        "# picks a specific tree from the forest\n",
        "tree = forest.estimators_[23]\n",
        "\n",
        "export_graphviz(tree, out_file = dot_data, filled = True, rounded = True,\n",
        "                special_characters = True, feature_names = features)\n",
        "graph = pydotplus.graph_from_dot_data(dot_data.getvalue())  \n",
        "graph.write_png('hypothyroid.png')\n",
        "Image(graph.create_png())"
      ],
      "execution_count": 0,
      "outputs": [
        {
          "output_type": "execute_result",
          "data": {
            "image/png": "[encoded data removed]",
            "text/plain": [
              "<IPython.core.display.Image object>"
            ]
          },
          "metadata": {
            "tags": []
          },
          "execution_count": 57
        }
      ]
    },
    {
      "cell_type": "code",
      "metadata": {
        "id": "Omnq9qQcfzH2",
        "colab_type": "code",
        "outputId": "3e711307-4537-43ca-ada7-bcc4fef59578",
        "colab": {
          "base_uri": "https://localhost:8080/",
          "height": 462
        }
      },
      "source": [
        "# Get numerical feature importances\n",
        "importances = list(tree.feature_importances_)\n",
        "\n",
        "# We now use some Python magic to connect each feature with its importance\n",
        "# List of tuples with variable and importance\n",
        "feature_importances = [(feature, round(importance, 2)) for feature, importance in zip(features, importances)]\n",
        "\n",
        "print(feature_importances) #this already has all the information we need, but it can be tricky to see when there are too many features.\n",
        "print()\n",
        "\n",
        "# Nice to have: We can sort the values in descending order, since we care about the most important features first.\n",
        "feature_importances = sorted(feature_importances, key = lambda x: x[1], reverse = True)\n",
        "\n",
        "# Print out the feature and importances \n",
        "[print('Variable: {:20} Importance: {}'.format(*pair)) for pair in feature_importances];"
      ],
      "execution_count": 0,
      "outputs": [
        {
          "output_type": "stream",
          "text": [
            "[('age', 0.0), ('sex', 0.0), ('on_thyroxine', 0.0), ('query_on_thyroxine', 0.0), ('on_antithyroid_medication', 0.02), ('thyroid_surgery', 0.0), ('query_hypothyroid', 0.0), ('query_hyperthyroid', 0.0), ('pregnant', 0.0), ('sick', 0.0), ('tumor', 0.0), ('lithium', 0.0), ('goitre', 0.0), ('TSH', 0.2), ('T3', 0.03), ('TT4', 0.0), ('T4U', 0.0), ('FTI', 0.75), ('TSH_measured_y', 0.0), ('T3_measured_y', 0.0), ('TT4_measured_y', 0.0), ('T4U_measured_y', 0.0), ('FTI_measured_y', 0.0)]\n",
            "\n",
            "Variable: FTI                  Importance: 0.75\n",
            "Variable: TSH                  Importance: 0.2\n",
            "Variable: T3                   Importance: 0.03\n",
            "Variable: on_antithyroid_medication Importance: 0.02\n",
            "Variable: age                  Importance: 0.0\n",
            "Variable: sex                  Importance: 0.0\n",
            "Variable: on_thyroxine         Importance: 0.0\n",
            "Variable: query_on_thyroxine   Importance: 0.0\n",
            "Variable: thyroid_surgery      Importance: 0.0\n",
            "Variable: query_hypothyroid    Importance: 0.0\n",
            "Variable: query_hyperthyroid   Importance: 0.0\n",
            "Variable: pregnant             Importance: 0.0\n",
            "Variable: sick                 Importance: 0.0\n",
            "Variable: tumor                Importance: 0.0\n",
            "Variable: lithium              Importance: 0.0\n",
            "Variable: goitre               Importance: 0.0\n",
            "Variable: TT4                  Importance: 0.0\n",
            "Variable: T4U                  Importance: 0.0\n",
            "Variable: TSH_measured_y       Importance: 0.0\n",
            "Variable: T3_measured_y        Importance: 0.0\n",
            "Variable: TT4_measured_y       Importance: 0.0\n",
            "Variable: T4U_measured_y       Importance: 0.0\n",
            "Variable: FTI_measured_y       Importance: 0.0\n"
          ],
          "name": "stdout"
        }
      ]
    },
    {
      "cell_type": "code",
      "metadata": {
        "id": "HogmVIUcgrHS",
        "colab_type": "code",
        "outputId": "0f28d203-bcf6-428f-a47e-0f2123d8ee8a",
        "colab": {
          "base_uri": "https://localhost:8080/",
          "height": 418
        }
      },
      "source": [
        "# Import matplotlib for plotting and use magic command for Jupyter Notebooks\n",
        "import matplotlib.pyplot as plt\n",
        "\n",
        "# list of x locations for plotting\n",
        "x_values = list(range(len(importances)))\n",
        "# Make a bar chart\n",
        "plt.bar(x_values, importances, orientation = 'vertical')\n",
        "# Tick labels for x axis\n",
        "plt.xticks(x_values, features, rotation='vertical')\n",
        "# Axis labels and title\n",
        "plt.ylabel('Importance'); plt.xlabel('Variable'); plt.title('Variable Importances');"
      ],
      "execution_count": 0,
      "outputs": [
        {
          "output_type": "display_data",
          "data": {
            "image/png": "[encoded data removed]",
            "text/plain": [
              "<Figure size 432x288 with 1 Axes>"
            ]
          },
          "metadata": {
            "tags": []
          }
        }
      ]
    },
    {
      "cell_type": "markdown",
      "metadata": {
        "id": "tu7iabHHcoj-",
        "colab_type": "text"
      },
      "source": [
        "#Adaboost "
      ]
    },
    {
      "cell_type": "code",
      "metadata": {
        "id": "nmiUBc3Icpd8",
        "colab_type": "code",
        "outputId": "a9198698-a70e-434f-e416-2ea75a07d64b",
        "colab": {
          "base_uri": "https://localhost:8080/",
          "height": 297
        }
      },
      "source": [
        "from sklearn.tree import DecisionTreeRegressor\n",
        "\n",
        "decision_tree = DecisionTreeRegressor(max_depth = 5)\n",
        "\n",
        "# training our model on our training data\n",
        "decision_tree = decision_tree.fit(X_train, y_train)\n",
        "\n",
        "# making predictions on the test data\n",
        "decision_y_pred = decision_tree.predict(X_test)\n",
        "\n",
        "# comparing actual values to predicted values\n",
        "decision_compare = pd.DataFrame({'Actual' : y_test.flatten(),\n",
        "                        'Predicted' : decision_y_pred.flatten()})\n",
        "\n",
        "# previewing our summary statistics\n",
        "decision_compare.describe()"
      ],
      "execution_count": 0,
      "outputs": [
        {
          "output_type": "execute_result",
          "data": {
            "text/html": [
              "<div>\n",
              "<style scoped>\n",
              "    .dataframe tbody tr th:only-of-type {\n",
              "        vertical-align: middle;\n",
              "    }\n",
              "\n",
              "    .dataframe tbody tr th {\n",
              "        vertical-align: top;\n",
              "    }\n",
              "\n",
              "    .dataframe thead th {\n",
              "        text-align: right;\n",
              "    }\n",
              "</style>\n",
              "<table border=\"1\" class=\"dataframe\">\n",
              "  <thead>\n",
              "    <tr style=\"text-align: right;\">\n",
              "      <th></th>\n",
              "      <th>Actual</th>\n",
              "      <th>Predicted</th>\n",
              "    </tr>\n",
              "  </thead>\n",
              "  <tbody>\n",
              "    <tr>\n",
              "      <th>count</th>\n",
              "      <td>468.000000</td>\n",
              "      <td>468.000000</td>\n",
              "    </tr>\n",
              "    <tr>\n",
              "      <th>mean</th>\n",
              "      <td>0.053419</td>\n",
              "      <td>0.050493</td>\n",
              "    </tr>\n",
              "    <tr>\n",
              "      <th>std</th>\n",
              "      <td>0.225108</td>\n",
              "      <td>0.208325</td>\n",
              "    </tr>\n",
              "    <tr>\n",
              "      <th>min</th>\n",
              "      <td>0.000000</td>\n",
              "      <td>0.000000</td>\n",
              "    </tr>\n",
              "    <tr>\n",
              "      <th>25%</th>\n",
              "      <td>0.000000</td>\n",
              "      <td>0.000593</td>\n",
              "    </tr>\n",
              "    <tr>\n",
              "      <th>50%</th>\n",
              "      <td>0.000000</td>\n",
              "      <td>0.000593</td>\n",
              "    </tr>\n",
              "    <tr>\n",
              "      <th>75%</th>\n",
              "      <td>0.000000</td>\n",
              "      <td>0.000593</td>\n",
              "    </tr>\n",
              "    <tr>\n",
              "      <th>max</th>\n",
              "      <td>1.000000</td>\n",
              "      <td>1.000000</td>\n",
              "    </tr>\n",
              "  </tbody>\n",
              "</table>\n",
              "</div>"
            ],
            "text/plain": [
              "           Actual   Predicted\n",
              "count  468.000000  468.000000\n",
              "mean     0.053419    0.050493\n",
              "std      0.225108    0.208325\n",
              "min      0.000000    0.000000\n",
              "25%      0.000000    0.000593\n",
              "50%      0.000000    0.000593\n",
              "75%      0.000000    0.000593\n",
              "max      1.000000    1.000000"
            ]
          },
          "metadata": {
            "tags": []
          },
          "execution_count": 60
        }
      ]
    },
    {
      "cell_type": "code",
      "metadata": {
        "id": "lgadul8YdJmq",
        "colab_type": "code",
        "outputId": "1dbf6d63-b631-4968-f4a5-43ed66c0d7f0",
        "colab": {
          "base_uri": "https://localhost:8080/",
          "height": 297
        }
      },
      "source": [
        "from sklearn.ensemble import AdaBoostRegressor\n",
        "\n",
        "# creating our classifier with 200 trees of depth 1\n",
        "ada_reg = AdaBoostRegressor(DecisionTreeRegressor(max_depth = 1), \n",
        "                            n_estimators = 200)\n",
        "\n",
        "# fitting our model to our training data\n",
        "ada_reg.fit(X_train, y_train)\n",
        "\n",
        "# making predictions\n",
        "ada_reg_y_pred = ada_reg.predict(X_test)\n",
        "\n",
        "# comparing actual values to predicted values\n",
        "ada_reg_compare = pd.DataFrame({'Actual' : y_test.flatten(),\n",
        "                        'Predicted' : ada_reg_y_pred.flatten()})\n",
        "\n",
        "# previewing our summary statistics\n",
        "ada_reg_compare.describe()"
      ],
      "execution_count": 0,
      "outputs": [
        {
          "output_type": "execute_result",
          "data": {
            "text/html": [
              "<div>\n",
              "<style scoped>\n",
              "    .dataframe tbody tr th:only-of-type {\n",
              "        vertical-align: middle;\n",
              "    }\n",
              "\n",
              "    .dataframe tbody tr th {\n",
              "        vertical-align: top;\n",
              "    }\n",
              "\n",
              "    .dataframe thead th {\n",
              "        text-align: right;\n",
              "    }\n",
              "</style>\n",
              "<table border=\"1\" class=\"dataframe\">\n",
              "  <thead>\n",
              "    <tr style=\"text-align: right;\">\n",
              "      <th></th>\n",
              "      <th>Actual</th>\n",
              "      <th>Predicted</th>\n",
              "    </tr>\n",
              "  </thead>\n",
              "  <tbody>\n",
              "    <tr>\n",
              "      <th>count</th>\n",
              "      <td>468.000000</td>\n",
              "      <td>468.000000</td>\n",
              "    </tr>\n",
              "    <tr>\n",
              "      <th>mean</th>\n",
              "      <td>0.053419</td>\n",
              "      <td>0.063862</td>\n",
              "    </tr>\n",
              "    <tr>\n",
              "      <th>std</th>\n",
              "      <td>0.225108</td>\n",
              "      <td>0.160418</td>\n",
              "    </tr>\n",
              "    <tr>\n",
              "      <th>min</th>\n",
              "      <td>0.000000</td>\n",
              "      <td>0.013027</td>\n",
              "    </tr>\n",
              "    <tr>\n",
              "      <th>25%</th>\n",
              "      <td>0.000000</td>\n",
              "      <td>0.013027</td>\n",
              "    </tr>\n",
              "    <tr>\n",
              "      <th>50%</th>\n",
              "      <td>0.000000</td>\n",
              "      <td>0.013027</td>\n",
              "    </tr>\n",
              "    <tr>\n",
              "      <th>75%</th>\n",
              "      <td>0.000000</td>\n",
              "      <td>0.013027</td>\n",
              "    </tr>\n",
              "    <tr>\n",
              "      <th>max</th>\n",
              "      <td>1.000000</td>\n",
              "      <td>0.710744</td>\n",
              "    </tr>\n",
              "  </tbody>\n",
              "</table>\n",
              "</div>"
            ],
            "text/plain": [
              "           Actual   Predicted\n",
              "count  468.000000  468.000000\n",
              "mean     0.053419    0.063862\n",
              "std      0.225108    0.160418\n",
              "min      0.000000    0.013027\n",
              "25%      0.000000    0.013027\n",
              "50%      0.000000    0.013027\n",
              "75%      0.000000    0.013027\n",
              "max      1.000000    0.710744"
            ]
          },
          "metadata": {
            "tags": []
          },
          "execution_count": 61
        }
      ]
    },
    {
      "cell_type": "code",
      "metadata": {
        "id": "rpshQRp3gL8D",
        "colab_type": "code",
        "outputId": "90d13d61-2559-49b9-ceff-f64dea1d4a21",
        "colab": {
          "base_uri": "https://localhost:8080/",
          "height": 68
        }
      },
      "source": [
        "#evaluating accuracy\n",
        "print('Mean Absolute Error:', metrics.mean_absolute_error(y_test, ada_reg_y_pred))  \n",
        "print('Mean Squared Error:', metrics.mean_squared_error(y_test, ada_reg_y_pred))  \n",
        "print('Root Mean Squared Error:', np.sqrt(metrics.mean_squared_error(y_test, ada_reg_y_pred)))"
      ],
      "execution_count": 0,
      "outputs": [
        {
          "output_type": "stream",
          "text": [
            "Mean Absolute Error: 0.052820563647457755\n",
            "Mean Squared Error: 0.01871592242983024\n",
            "Root Mean Squared Error: 0.13680614909363628\n"
          ],
          "name": "stdout"
        }
      ]
    },
    {
      "cell_type": "markdown",
      "metadata": {
        "id": "XH9f0n98gYvH",
        "colab_type": "text"
      },
      "source": [
        "#Gradient boosting "
      ]
    },
    {
      "cell_type": "code",
      "metadata": {
        "id": "ngs6oVSlnXjU",
        "colab_type": "code",
        "colab": {}
      },
      "source": [
        "# getting our feature names\n",
        "features = df1.columns.to_list()\n",
        "features.remove('status')\n",
        "\n",
        "#Split the dataset\n",
        "X = df1[features].values\n",
        "\n",
        "y = df1['status'].values\n",
        "#Train and test the dataset\n",
        "X_train, X_test, y_train, y_test = train_test_split(X, y, test_size=0.2, random_state=0)"
      ],
      "execution_count": 0,
      "outputs": []
    },
    {
      "cell_type": "code",
      "metadata": {
        "id": "aqkFNJvWgYL1",
        "colab_type": "code",
        "colab": {}
      },
      "source": [
        "from sklearn.ensemble import GradientBoostingRegressor\n",
        "target_number_of_trees = 300\n",
        "\n",
        "gbr = GradientBoostingRegressor(n_estimators=target_number_of_trees, learning_rate=0.1, max_depth=2)\n",
        "gbr = gbr.fit(X_train, y_train)\n",
        "\n",
        "#Predict using the model\n",
        "y_pred_gbr = gbr.predict(X_test)\n"
      ],
      "execution_count": 0,
      "outputs": []
    },
    {
      "cell_type": "code",
      "metadata": {
        "id": "fSmBH8HCgT-I",
        "colab_type": "code",
        "outputId": "bb6b0908-4b57-4d21-fb10-985793e3dce4",
        "colab": {
          "base_uri": "https://localhost:8080/",
          "height": 359
        }
      },
      "source": [
        "# comparing actual values to predicted values\n",
        "comparison = pd.DataFrame({'Actual' : y_test,\n",
        "                        'Predicted' : y_pred_gbr})\n",
        "comparison.sample(10)"
      ],
      "execution_count": 0,
      "outputs": [
        {
          "output_type": "execute_result",
          "data": {
            "text/html": [
              "<div>\n",
              "<style scoped>\n",
              "    .dataframe tbody tr th:only-of-type {\n",
              "        vertical-align: middle;\n",
              "    }\n",
              "\n",
              "    .dataframe tbody tr th {\n",
              "        vertical-align: top;\n",
              "    }\n",
              "\n",
              "    .dataframe thead th {\n",
              "        text-align: right;\n",
              "    }\n",
              "</style>\n",
              "<table border=\"1\" class=\"dataframe\">\n",
              "  <thead>\n",
              "    <tr style=\"text-align: right;\">\n",
              "      <th></th>\n",
              "      <th>Actual</th>\n",
              "      <th>Predicted</th>\n",
              "    </tr>\n",
              "  </thead>\n",
              "  <tbody>\n",
              "    <tr>\n",
              "      <th>115</th>\n",
              "      <td>0</td>\n",
              "      <td>0.000803</td>\n",
              "    </tr>\n",
              "    <tr>\n",
              "      <th>310</th>\n",
              "      <td>0</td>\n",
              "      <td>0.004182</td>\n",
              "    </tr>\n",
              "    <tr>\n",
              "      <th>430</th>\n",
              "      <td>0</td>\n",
              "      <td>-0.000504</td>\n",
              "    </tr>\n",
              "    <tr>\n",
              "      <th>262</th>\n",
              "      <td>0</td>\n",
              "      <td>-0.001528</td>\n",
              "    </tr>\n",
              "    <tr>\n",
              "      <th>381</th>\n",
              "      <td>0</td>\n",
              "      <td>0.000122</td>\n",
              "    </tr>\n",
              "    <tr>\n",
              "      <th>346</th>\n",
              "      <td>0</td>\n",
              "      <td>0.000122</td>\n",
              "    </tr>\n",
              "    <tr>\n",
              "      <th>395</th>\n",
              "      <td>0</td>\n",
              "      <td>-0.000077</td>\n",
              "    </tr>\n",
              "    <tr>\n",
              "      <th>257</th>\n",
              "      <td>1</td>\n",
              "      <td>0.972962</td>\n",
              "    </tr>\n",
              "    <tr>\n",
              "      <th>174</th>\n",
              "      <td>0</td>\n",
              "      <td>-0.000330</td>\n",
              "    </tr>\n",
              "    <tr>\n",
              "      <th>431</th>\n",
              "      <td>0</td>\n",
              "      <td>-0.001118</td>\n",
              "    </tr>\n",
              "  </tbody>\n",
              "</table>\n",
              "</div>"
            ],
            "text/plain": [
              "     Actual  Predicted\n",
              "115       0   0.000803\n",
              "310       0   0.004182\n",
              "430       0  -0.000504\n",
              "262       0  -0.001528\n",
              "381       0   0.000122\n",
              "346       0   0.000122\n",
              "395       0  -0.000077\n",
              "257       1   0.972962\n",
              "174       0  -0.000330\n",
              "431       0  -0.001118"
            ]
          },
          "metadata": {
            "tags": []
          },
          "execution_count": 66
        }
      ]
    },
    {
      "cell_type": "code",
      "metadata": {
        "id": "MrxKlEEk4L4j",
        "colab_type": "code",
        "outputId": "5b2b062d-3dbb-40b0-d7cb-89c9cb58b738",
        "colab": {
          "base_uri": "https://localhost:8080/",
          "height": 68
        }
      },
      "source": [
        "# checking on the accuracy\n",
        "print('Mean Absolute Error:', metrics.mean_absolute_error(y_test, y_pred_gbr))  \n",
        "print('Mean Squared Error:', metrics.mean_squared_error(y_test, y_pred_gbr))  \n",
        "print('Root Mean Squared Error:', np.sqrt(metrics.mean_squared_error(y_test, y_pred_gbr)))"
      ],
      "execution_count": 0,
      "outputs": [
        {
          "output_type": "stream",
          "text": [
            "Mean Absolute Error: 0.02152021061909636\n",
            "Mean Squared Error: 0.008890987945213527\n",
            "Root Mean Squared Error: 0.09429203542830925\n"
          ],
          "name": "stdout"
        }
      ]
    },
    {
      "cell_type": "markdown",
      "metadata": {
        "id": "FEfzA2YAg8gI",
        "colab_type": "text"
      },
      "source": [
        "#SVM"
      ]
    },
    {
      "cell_type": "markdown",
      "metadata": {
        "id": "L0CBy_fv8Xlw",
        "colab_type": "text"
      },
      "source": [
        "##Linear Kernel"
      ]
    },
    {
      "cell_type": "code",
      "metadata": {
        "id": "jumZemWAlxr5",
        "colab_type": "code",
        "colab": {}
      },
      "source": [
        "# getting our feature names\n",
        "features = df1.columns.to_list()\n",
        "features.remove('status')\n",
        "\n",
        "#Split the dataset\n",
        "X = df1[features].values\n",
        "\n",
        "y = df1['status'].values\n",
        "#Train and test the dataset\n",
        "X_train, X_test, y_train, y_test = train_test_split(X, y, test_size=0.2, random_state=0)"
      ],
      "execution_count": 0,
      "outputs": []
    },
    {
      "cell_type": "code",
      "metadata": {
        "id": "DicPSwUT5Ups",
        "colab_type": "code",
        "colab": {}
      },
      "source": [
        "# Build the svm model \n",
        "model = SVC(kernel = 'linear')\n",
        "# Train the model using the training set\n",
        "model.fit(X_train,y_train)\n",
        "\n",
        "# Predict the response for the test set\n",
        "y_pred = model.predict(X_test)\n"
      ],
      "execution_count": 0,
      "outputs": []
    },
    {
      "cell_type": "code",
      "metadata": {
        "id": "VULYCrYW5vh2",
        "colab_type": "code",
        "outputId": "c61bdacc-74ec-42f5-d1b7-267d61f119ec",
        "colab": {
          "base_uri": "https://localhost:8080/",
          "height": 34
        }
      },
      "source": [
        "#Check for the peformance\n",
        "model_accuracy = accuracy_score(y_test,y_pred)\n",
        "model_accuracy\n",
        "\n",
        "#We have a score of 97% which is good\n",
        "\n",
        "#Implement the confusion matrix\n",
        "#confusion_matrix = confusion_matrix(y_test, y_pred)\n",
        "#confusion_matrix"
      ],
      "execution_count": 0,
      "outputs": [
        {
          "output_type": "execute_result",
          "data": {
            "text/plain": [
              "0.9786324786324786"
            ]
          },
          "metadata": {
            "tags": []
          },
          "execution_count": 71
        }
      ]
    },
    {
      "cell_type": "markdown",
      "metadata": {
        "id": "5V7BmLLL8O7g",
        "colab_type": "text"
      },
      "source": [
        "##Polynomial Kernel "
      ]
    },
    {
      "cell_type": "code",
      "metadata": {
        "id": "IL01uFsq-BN7",
        "colab_type": "code",
        "colab": {}
      },
      "source": [
        "# getting our feature names\n",
        "features = df1.columns.to_list()\n",
        "features.remove('status')\n",
        "\n",
        "#Split the dataset\n",
        "X = df1[features].values\n",
        "\n",
        "y = df1['status'].values\n",
        "#Train and test the dataset\n",
        "X_train, X_test, y_train, y_test = train_test_split(X, y, test_size=0.2, random_state=0)"
      ],
      "execution_count": 0,
      "outputs": []
    },
    {
      "cell_type": "code",
      "metadata": {
        "id": "2wpyuhuI5-4b",
        "colab_type": "code",
        "colab": {}
      },
      "source": [
        "# Polynomial kernel\n",
        "polynomial = SVC(kernel = 'poly', gamma = 'auto')\n"
      ],
      "execution_count": 0,
      "outputs": []
    },
    {
      "cell_type": "code",
      "metadata": {
        "id": "aFFxTEA7-nX1",
        "colab_type": "code",
        "outputId": "2b904060-991e-4358-9058-9a354c5cc233",
        "colab": {
          "base_uri": "https://localhost:8080/",
          "height": 85
        }
      },
      "source": [
        "# train the model\n",
        "polynomial.fit(X_train, y_train)"
      ],
      "execution_count": 0,
      "outputs": [
        {
          "output_type": "execute_result",
          "data": {
            "text/plain": [
              "SVC(C=1.0, break_ties=False, cache_size=200, class_weight=None, coef0=0.0,\n",
              "    decision_function_shape='ovr', degree=3, gamma='auto', kernel='poly',\n",
              "    max_iter=-1, probability=False, random_state=None, shrinking=True,\n",
              "    tol=0.001, verbose=False)"
            ]
          },
          "metadata": {
            "tags": []
          },
          "execution_count": 74
        }
      ]
    },
    {
      "cell_type": "code",
      "metadata": {
        "id": "14drrbZhCetF",
        "colab_type": "code",
        "colab": {}
      },
      "source": [
        "# Make predicts based on the model you have created\n",
        "polynomial_y_pred = polynomial.predict(X_test)"
      ],
      "execution_count": 0,
      "outputs": []
    },
    {
      "cell_type": "code",
      "metadata": {
        "id": "xbp8sdagCvKy",
        "colab_type": "code",
        "outputId": "105b55d0-c46e-41f2-bf32-2a67efc7986b",
        "colab": {
          "base_uri": "https://localhost:8080/",
          "height": 34
        }
      },
      "source": [
        "#Check on the accuracy\n",
        "accuracy = accuracy_score(y_test,polynomial_y_pred)\n",
        "accuracy"
      ],
      "execution_count": 0,
      "outputs": [
        {
          "output_type": "execute_result",
          "data": {
            "text/plain": [
              "0.9743589743589743"
            ]
          },
          "metadata": {
            "tags": []
          },
          "execution_count": 81
        }
      ]
    },
    {
      "cell_type": "markdown",
      "metadata": {
        "id": "l855MsojC6QW",
        "colab_type": "text"
      },
      "source": [
        "The performance for the linear kernel and the polynomial are the same \n",
        "Both models could be used to make predictions "
      ]
    },
    {
      "cell_type": "markdown",
      "metadata": {
        "id": "6qry-V1e9KoN",
        "colab_type": "text"
      },
      "source": [
        "#Challenges\n",
        "It took a while to understand the data hence it was time consuming \n",
        "Several steps were skipped due to the limited time and trying several mathods that could make a good model\n"
      ]
    }
  ]
}